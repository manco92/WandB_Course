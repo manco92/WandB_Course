{
  "cells": [
    {
      "cell_type": "code",
      "execution_count": 1,
      "metadata": {
        "id": "rFAyZqiHxbWM"
      },
      "outputs": [],
      "source": [
        "import pandas as pd\n",
        "import numpy as np\n",
        "import torch\n",
        "import matplotlib.pyplot as plt\n",
        "#import matplotlib.image as mpimg\n",
        "import cv2 as cv\n",
        "import datetime\n",
        "#from sklearn import metrics\n",
        "from sklearn.utils import class_weight\n",
        "from PIL import Image\n",
        "##import time\n",
        "import os\n",
        "import torchvision\n",
        "import torchsummary\n",
        "from torch.utils.data import Dataset, DataLoader\n",
        "#from IPython.display import Image, display"
      ]
    },
    {
      "cell_type": "code",
      "execution_count": 2,
      "metadata": {
        "id": "bJYVvkM8_z5Q"
      },
      "outputs": [],
      "source": [
        "#from google.colab import userdata\n",
        "\n",
        "#os.environ[\"GOOGLE_DRIVE_TOKEN\"] = userdata.get('DRIVE_TOKEN')"
      ]
    },
    {
      "cell_type": "code",
      "execution_count": 3,
      "metadata": {
        "colab": {
          "base_uri": "https://localhost:8080/"
        },
        "id": "ISTgNo0Jzfvl",
        "outputId": "6e4d36a1-01c5-4494-e8c2-18f1c9ca249d"
      },
      "outputs": [
        {
          "ename": "ModuleNotFoundError",
          "evalue": "No module named 'google.colab'",
          "output_type": "error",
          "traceback": [
            "\u001b[1;31m---------------------------------------------------------------------------\u001b[0m",
            "\u001b[1;31mModuleNotFoundError\u001b[0m                       Traceback (most recent call last)",
            "Cell \u001b[1;32mIn[3], line 1\u001b[0m\n\u001b[1;32m----> 1\u001b[0m \u001b[38;5;28;01mfrom\u001b[39;00m \u001b[38;5;21;01mgoogle\u001b[39;00m\u001b[38;5;21;01m.\u001b[39;00m\u001b[38;5;21;01mcolab\u001b[39;00m \u001b[38;5;28;01mimport\u001b[39;00m drive\n\u001b[0;32m      3\u001b[0m \u001b[38;5;66;03m# Montar Google Drive\u001b[39;00m\n\u001b[0;32m      4\u001b[0m \u001b[38;5;66;03m#drive.mount('/content/drive')\u001b[39;00m\n",
            "\u001b[1;31mModuleNotFoundError\u001b[0m: No module named 'google.colab'"
          ]
        }
      ],
      "source": [
        "#from google.colab import drive\n",
        "\n",
        "# Montar Google Drive\n",
        "#drive.mount('/content/drive')"
      ]
    },
    {
      "cell_type": "code",
      "execution_count": null,
      "metadata": {
        "id": "4Q_6lsnmeoQn"
      },
      "outputs": [],
      "source": [
        "# Guardar la variable de entorno para que no solicite autorización la próxima vez\n",
        "#%env GOOGLE_DRIVE_MOUNT_POINT /content/drive"
      ]
    },
    {
      "cell_type": "markdown",
      "metadata": {
        "id": "KXPj3u5d1woz"
      },
      "source": [
        "DEFINO EL SWEEP"
      ]
    },
    {
      "cell_type": "code",
      "execution_count": 4,
      "metadata": {
        "id": "DJGicXiN1zcT"
      },
      "outputs": [],
      "source": [
        "sweep_config = {\n",
        "    'method': 'random'\n",
        "    }"
      ]
    },
    {
      "cell_type": "code",
      "execution_count": 5,
      "metadata": {
        "id": "8xJ8eJmW2BFO"
      },
      "outputs": [],
      "source": [
        "metric = {\n",
        "    'name': 'valid loss',\n",
        "    'goal': 'minimize'\n",
        "    }\n",
        "\n",
        "sweep_config['metric'] = metric"
      ]
    },
    {
      "cell_type": "code",
      "execution_count": 6,
      "metadata": {
        "id": "6JhDVL1P2ASQ"
      },
      "outputs": [],
      "source": [
        "parameters_dict = {\n",
        "    'optimizer': {\n",
        "        'values': ['adam', 'sgd']\n",
        "        }\n",
        "    }\n",
        "\n",
        "sweep_config['parameters'] = parameters_dict"
      ]
    },
    {
      "cell_type": "code",
      "execution_count": 7,
      "metadata": {
        "id": "Hrt2Nw_82Nbr"
      },
      "outputs": [],
      "source": [
        "parameters_dict.update({\n",
        "    'epochs': {\n",
        "        'value': 2}\n",
        "    })"
      ]
    },
    {
      "cell_type": "code",
      "execution_count": 8,
      "metadata": {
        "id": "v0LNWUD82h6l"
      },
      "outputs": [],
      "source": [
        "parameters_dict.update({\n",
        "    'learning_rate': {\n",
        "        # a flat distribution between 0 and 0.1\n",
        "        'distribution': 'uniform',\n",
        "        'min': [0.0001],\n",
        "        'max': [0.0001]\n",
        "      },\n",
        "    'batch_size': {'values': [64]\n",
        "        # integers between 32 and 256\n",
        "        # with evenly-distributed logarithms\n",
        "        #'distribution': 'q_log_uniform_values',\n",
        "        #'q': 4,\n",
        "        #'min': 8,\n",
        "        #'max': 64,\n",
        "      }\n",
        "    })"
      ]
    },
    {
      "cell_type": "code",
      "execution_count": 9,
      "metadata": {
        "colab": {
          "base_uri": "https://localhost:8080/"
        },
        "id": "PyyXdOAk2kXD",
        "outputId": "0206f71f-55f8-48b2-c4a1-09dd95bc36b6"
      },
      "outputs": [
        {
          "name": "stdout",
          "output_type": "stream",
          "text": [
            "{'method': 'random',\n",
            " 'metric': {'goal': 'minimize', 'name': 'valid loss'},\n",
            " 'parameters': {'batch_size': {'values': [64]},\n",
            "                'epochs': {'value': 2},\n",
            "                'learning_rate': {'distribution': 'uniform',\n",
            "                                  'max': [0.0001],\n",
            "                                  'min': [0.0001]},\n",
            "                'optimizer': {'values': ['adam', 'sgd']}}}\n"
          ]
        }
      ],
      "source": [
        "import pprint\n",
        "\n",
        "pprint.pprint(sweep_config)"
      ]
    },
    {
      "cell_type": "markdown",
      "metadata": {
        "id": "VQ9aVRqj5JLf"
      },
      "source": [
        "INITIALISE THE SWEEP"
      ]
    },
    {
      "cell_type": "code",
      "execution_count": 10,
      "metadata": {
        "colab": {
          "base_uri": "https://localhost:8080/"
        },
        "id": "K6IS3OeE5MUu",
        "outputId": "d68b40c9-1502-48cb-aac9-3d958d7b5f45"
      },
      "outputs": [],
      "source": [
        "#import wandb\n",
        "#wandb.login()\n",
        "#sweep_id = wandb.sweep(sweep_config, project=\"animal_img_classification\")"
      ]
    },
    {
      "cell_type": "code",
      "execution_count": 11,
      "metadata": {
        "id": "K8SoBicbQ0_9"
      },
      "outputs": [],
      "source": [
        "import torchmetrics"
      ]
    },
    {
      "cell_type": "code",
      "execution_count": 12,
      "metadata": {
        "id": "k-fKvVNryHTi"
      },
      "outputs": [],
      "source": [
        "# CARGO MODELO VGG19\n",
        "from torchvision.models.vgg import VGG19_Weights\n",
        "\n",
        "weights = VGG19_Weights.IMAGENET1K_V1\n",
        "transforms = weights.transforms()"
      ]
    },
    {
      "cell_type": "code",
      "execution_count": 13,
      "metadata": {
        "id": "aCrENzOMyHWk"
      },
      "outputs": [],
      "source": [
        "# Creo un pipeline para transformar las imágenes.\n",
        "data_transforms = torchvision.transforms.Compose([\n",
        "    torchvision.transforms.Resize(size = (200, 200)),\n",
        "    torchvision.transforms.ToTensor()])\n",
        "\n",
        "# Creo un pipeline para las transformaciones de augmentations.\n",
        "aug_data_transforms = torchvision.transforms.Compose([\n",
        "                        torchvision.transforms.Resize(size = (200, 200)),\n",
        "                        torchvision.transforms.RandomHorizontalFlip(0.5),\n",
        "                        torchvision.transforms.RandomVerticalFlip(0.5),\n",
        "                        torchvision.transforms.RandomResizedCrop(size = (200, 200), scale = (0.5, 1.0)),\n",
        "                        torchvision.transforms.ColorJitter(saturation = 0.1, hue = 0.1),\n",
        "                        torchvision.transforms.ToTensor()])"
      ]
    },
    {
      "cell_type": "code",
      "execution_count": 14,
      "metadata": {
        "id": "hOUN3A4AdMLH"
      },
      "outputs": [],
      "source": [
        "def trim_set(full_set, size):\n",
        "    # Obtener el 10% del tamaño original de forma aleatoria\n",
        "    desired_size = int(size * len(full_set))\n",
        "    random_indices = random.sample(range(len(full_set)), desired_size)\n",
        "\n",
        "    # Crear un nuevo conjunto de entrenamiento con las muestras seleccionadas\n",
        "    random_subset = torch.utils.data.Subset(full_set, random_indices)\n",
        "\n",
        "    return random_subset, random_indices"
      ]
    },
    {
      "cell_type": "code",
      "execution_count": 15,
      "metadata": {
        "id": "h3r4xUiCy8sN"
      },
      "outputs": [],
      "source": [
        "from torch.utils.data import Subset, random_split\n",
        "from collections import defaultdict\n",
        "import random\n",
        "\n",
        "random.seed(42)\n",
        "\n",
        "# Cargo imágenes de train, validación y test.\n",
        "train_set = torchvision.datasets.ImageFolder(root = r'C:\\Users\\Leandro\\CEIA_Analisis_de_datos\\VPC2\\TP\\archive\\animal_dataset\\Remaining_train', transform = aug_data_transforms)\n",
        "valid_set = torchvision.datasets.ImageFolder(root = r'C:\\Users\\Leandro\\CEIA_Analisis_de_datos\\VPC2\\TP\\archive\\animal_dataset\\Remaining_valid', transform = aug_data_transforms)\n",
        "test_set = torchvision.datasets.ImageFolder(root = r'C:\\Users\\Leandro\\CEIA_Analisis_de_datos\\VPC2\\TP\\archive\\animal_dataset\\valid', transform = aug_data_transforms)\n",
        "\n",
        "train_set, idx_train_set = trim_set(train_set, 1)\n",
        "valid_set, idx_valid_set = trim_set(valid_set, 0.5)\n",
        "test_set, idx_test_set = trim_set(test_set, 0.1)\n",
        "\n",
        "# Obtén las clases únicas en el conjunto de datos\n",
        "classes = test_set.dataset.classes\n",
        "\n",
        "# Crea un diccionario para almacenar los índices de cada clase\n",
        "class_indices = defaultdict(list)\n",
        "\n",
        "# Almacena los índices de cada clase en el diccionario\n",
        "for idx, (_, label) in enumerate(test_set.dataset.imgs):\n",
        "    class_indices[label].append(idx)\n",
        "\n",
        "# Selecciona aleatoriamente un elemento de cada clase\n",
        "idx_test = [random.choice(class_indices[i]) for i,label in enumerate(classes)]\n",
        "\n",
        "# Crea un nuevo conjunto de datos con los índices seleccionados\n",
        "sample_test_set = Subset(test_set, idx_test)\n",
        "\n",
        "train_loader = DataLoader(train_set, batch_size = 64, shuffle = True)\n",
        "valid_loader = DataLoader(valid_set, batch_size = 32, shuffle = False)\n",
        "test_loader = DataLoader(test_set, batch_size = 16, shuffle = False)\n",
        "sample_test_loader = DataLoader(sample_test_set, batch_size = 10, shuffle = False)"
      ]
    },
    {
      "cell_type": "code",
      "execution_count": 16,
      "metadata": {
        "id": "D7tmAo7KXmCH"
      },
      "outputs": [],
      "source": [
        "#train_loader = sample_test_loader\n",
        "#valid_loader = sample_test_loader\n",
        "#test_loader = sample_test_loader"
      ]
    },
    {
      "cell_type": "code",
      "execution_count": 17,
      "metadata": {
        "colab": {
          "base_uri": "https://localhost:8080/"
        },
        "id": "-xCcTb5ZN6Za",
        "outputId": "bb2d6eed-ecd6-4256-a0ab-e613643a49ed"
      },
      "outputs": [
        {
          "name": "stdout",
          "output_type": "stream",
          "text": [
            "cuda\n"
          ]
        }
      ],
      "source": [
        "device = torch.device(\"cuda\" if torch.cuda.is_available() else \"cpu\")\n",
        "print(device)"
      ]
    },
    {
      "cell_type": "code",
      "execution_count": 18,
      "metadata": {
        "colab": {
          "base_uri": "https://localhost:8080/"
        },
        "id": "N1OOiZZUy8wh",
        "outputId": "4d738a7f-d5dd-4552-f493-b8da5beb3544"
      },
      "outputs": [
        {
          "data": {
            "text/plain": [
              "VGG(\n",
              "  (features): Sequential(\n",
              "    (0): Conv2d(3, 64, kernel_size=(3, 3), stride=(1, 1), padding=(1, 1))\n",
              "    (1): ReLU(inplace=True)\n",
              "    (2): Conv2d(64, 64, kernel_size=(3, 3), stride=(1, 1), padding=(1, 1))\n",
              "    (3): ReLU(inplace=True)\n",
              "    (4): MaxPool2d(kernel_size=2, stride=2, padding=0, dilation=1, ceil_mode=False)\n",
              "    (5): Conv2d(64, 128, kernel_size=(3, 3), stride=(1, 1), padding=(1, 1))\n",
              "    (6): ReLU(inplace=True)\n",
              "    (7): Conv2d(128, 128, kernel_size=(3, 3), stride=(1, 1), padding=(1, 1))\n",
              "    (8): ReLU(inplace=True)\n",
              "    (9): MaxPool2d(kernel_size=2, stride=2, padding=0, dilation=1, ceil_mode=False)\n",
              "    (10): Conv2d(128, 256, kernel_size=(3, 3), stride=(1, 1), padding=(1, 1))\n",
              "    (11): ReLU(inplace=True)\n",
              "    (12): Conv2d(256, 256, kernel_size=(3, 3), stride=(1, 1), padding=(1, 1))\n",
              "    (13): ReLU(inplace=True)\n",
              "    (14): Conv2d(256, 256, kernel_size=(3, 3), stride=(1, 1), padding=(1, 1))\n",
              "    (15): ReLU(inplace=True)\n",
              "    (16): Conv2d(256, 256, kernel_size=(3, 3), stride=(1, 1), padding=(1, 1))\n",
              "    (17): ReLU(inplace=True)\n",
              "    (18): MaxPool2d(kernel_size=2, stride=2, padding=0, dilation=1, ceil_mode=False)\n",
              "    (19): Conv2d(256, 512, kernel_size=(3, 3), stride=(1, 1), padding=(1, 1))\n",
              "    (20): ReLU(inplace=True)\n",
              "    (21): Conv2d(512, 512, kernel_size=(3, 3), stride=(1, 1), padding=(1, 1))\n",
              "    (22): ReLU(inplace=True)\n",
              "    (23): Conv2d(512, 512, kernel_size=(3, 3), stride=(1, 1), padding=(1, 1))\n",
              "    (24): ReLU(inplace=True)\n",
              "    (25): Conv2d(512, 512, kernel_size=(3, 3), stride=(1, 1), padding=(1, 1))\n",
              "    (26): ReLU(inplace=True)\n",
              "    (27): MaxPool2d(kernel_size=2, stride=2, padding=0, dilation=1, ceil_mode=False)\n",
              "    (28): Conv2d(512, 512, kernel_size=(3, 3), stride=(1, 1), padding=(1, 1))\n",
              "    (29): ReLU(inplace=True)\n",
              "    (30): Conv2d(512, 512, kernel_size=(3, 3), stride=(1, 1), padding=(1, 1))\n",
              "    (31): ReLU(inplace=True)\n",
              "    (32): Conv2d(512, 512, kernel_size=(3, 3), stride=(1, 1), padding=(1, 1))\n",
              "    (33): ReLU(inplace=True)\n",
              "    (34): Conv2d(512, 512, kernel_size=(3, 3), stride=(1, 1), padding=(1, 1))\n",
              "    (35): ReLU(inplace=True)\n",
              "    (36): MaxPool2d(kernel_size=2, stride=2, padding=0, dilation=1, ceil_mode=False)\n",
              "  )\n",
              "  (avgpool): AdaptiveAvgPool2d(output_size=(7, 7))\n",
              "  (classifier): Sequential(\n",
              "    (0): Linear(in_features=25088, out_features=4096, bias=True)\n",
              "    (1): ReLU(inplace=True)\n",
              "    (2): Dropout(p=0.5, inplace=False)\n",
              "    (3): Linear(in_features=4096, out_features=4096, bias=True)\n",
              "    (4): ReLU(inplace=True)\n",
              "    (5): Dropout(p=0.5, inplace=False)\n",
              "    (6): Linear(in_features=4096, out_features=1000, bias=True)\n",
              "  )\n",
              ")"
            ]
          },
          "execution_count": 18,
          "metadata": {},
          "output_type": "execute_result"
        }
      ],
      "source": [
        "# Cargo modelo base\n",
        "vgg19_model = torchvision.models.vgg19(weights = weights)\n",
        "\n",
        "vgg19_model.to(device)\n",
        "\n",
        "#torchsummary.summary(vgg19_model, input_size = (3, 200, 200))\n",
        "#vgg19_model.modules"
      ]
    },
    {
      "cell_type": "code",
      "execution_count": 19,
      "metadata": {
        "id": "YIqZlG9Ry80f"
      },
      "outputs": [],
      "source": [
        "# Congelo capas de red base\n",
        "for param in vgg19_model.parameters():\n",
        "    param.requires_grad = False\n",
        "\n",
        "# Agrego capa final\n",
        "last_layer_in_features = vgg19_model.classifier[-1].in_features\n",
        "vgg19_model.classifier[-1] = torch.nn.Linear(in_features=last_layer_in_features, out_features = 10)"
      ]
    },
    {
      "cell_type": "code",
      "execution_count": 20,
      "metadata": {
        "colab": {
          "base_uri": "https://localhost:8080/"
        },
        "id": "kXQphbMTyHZR",
        "outputId": "17bf0f5b-f893-4ed9-b156-d21f16ae0e64"
      },
      "outputs": [
        {
          "name": "stdout",
          "output_type": "stream",
          "text": [
            "['butterfly', 'cat', 'chicken', 'cow', 'dog', 'elephant', 'horse', 'sheep', 'spider', 'squirrel']\n"
          ]
        }
      ],
      "source": [
        "labels = list(test_set.dataset.class_to_idx.keys())\n",
        "print(labels)\n",
        "#vgg19_model.classifier"
      ]
    },
    {
      "cell_type": "code",
      "execution_count": 21,
      "metadata": {
        "colab": {
          "base_uri": "https://localhost:8080/"
        },
        "id": "dKrKZdNV0mKW",
        "outputId": "8099ee60-1e29-49c5-b211-bee07d1ee2b7"
      },
      "outputs": [
        {
          "data": {
            "text/plain": [
              "tensor([1.2383, 1.5694, 0.8445, 1.4097, 0.5381, 1.8105, 0.9978, 1.4380, 0.5429,\n",
              "        1.4049], device='cuda:0')"
            ]
          },
          "execution_count": 21,
          "metadata": {},
          "output_type": "execute_result"
        }
      ],
      "source": [
        "from tqdm.auto import tqdm\n",
        "\n",
        "# Determino vector de pesos para equilibrar el desbalance.\n",
        "#labels_list = train_loader.dataset.targets\n",
        "labels_list = np.array(train_loader.dataset.dataset.targets)[idx_train_set]\n",
        "\n",
        "class_weights = class_weight.compute_class_weight(\n",
        "    class_weight = 'balanced',\n",
        "    classes = np.arange(10),\n",
        "    y = np.array(labels_list))\n",
        "class_weights = torch.tensor(class_weights, dtype = torch.float)\n",
        "\n",
        "class_weights = class_weights.to(device)\n",
        "\n",
        "class_weights"
      ]
    },
    {
      "cell_type": "code",
      "execution_count": 22,
      "metadata": {
        "id": "wBh40CdV0my-"
      },
      "outputs": [],
      "source": [
        "criterion = torch.nn.CrossEntropyLoss(weight = class_weights)"
      ]
    },
    {
      "cell_type": "code",
      "execution_count": 23,
      "metadata": {
        "colab": {
          "base_uri": "https://localhost:8080/"
        },
        "id": "OLIivpyQSqFF",
        "outputId": "11b74d3b-57ac-46c2-c53c-ae6fd09c1469"
      },
      "outputs": [
        {
          "name": "stdout",
          "output_type": "stream",
          "text": [
            "{'method': 'random',\n",
            " 'metric': {'goal': 'minimize', 'name': 'valid loss'},\n",
            " 'parameters': {'batch_size': {'values': [64]},\n",
            "                'epochs': {'value': 2},\n",
            "                'learning_rate': {'distribution': 'uniform',\n",
            "                                  'max': [0.0001],\n",
            "                                  'min': [0.0001]},\n",
            "                'optimizer': {'values': ['adam', 'sgd']}}}\n"
          ]
        }
      ],
      "source": [
        "pprint.pprint(sweep_config)"
      ]
    },
    {
      "cell_type": "code",
      "execution_count": 24,
      "metadata": {
        "id": "GkIXHFPynvEY"
      },
      "outputs": [],
      "source": [
        "def log_data_augmentation():\n",
        "\n",
        "  # SUBO IMÁGENES A WANDB PARA VISUALIZAR LOS DATA AUGMENTATIONS\n",
        "  table = wandb.Table(columns=[\"Original\", \"Augmented\"])\n",
        "\n",
        "  # Convertir el tensor a una imagen PIL\n",
        "  tensor_to_image = torchvision.transforms.ToPILImage()\n",
        "\n",
        "  idxs = random.sample(list(range(1, len(train_set))), len(labels))\n",
        "\n",
        "  for i,idx in enumerate(idxs):\n",
        "    img_og = train_set[idx][0]\n",
        "    img_mod = aug_data_transforms(tensor_to_image(img_og))\n",
        "\n",
        "    table.add_data(wandb.Image(img_og), wandb.Image(img_mod))\n",
        "\n",
        "  wandb.log({\"augmented_table\": table})"
      ]
    },
    {
      "cell_type": "code",
      "execution_count": 25,
      "metadata": {},
      "outputs": [],
      "source": [
        "import wandb"
      ]
    },
    {
      "cell_type": "code",
      "execution_count": 26,
      "metadata": {},
      "outputs": [
        {
          "name": "stderr",
          "output_type": "stream",
          "text": [
            "Failed to detect the name of this notebook, you can set it manually with the WANDB_NOTEBOOK_NAME environment variable to enable code saving.\n",
            "\u001b[34m\u001b[1mwandb\u001b[0m: Currently logged in as: \u001b[33mleandro-bello\u001b[0m. Use \u001b[1m`wandb login --relogin`\u001b[0m to force relogin\n"
          ]
        },
        {
          "data": {
            "text/html": [
              "Tracking run with wandb version 0.16.4"
            ],
            "text/plain": [
              "<IPython.core.display.HTML object>"
            ]
          },
          "metadata": {},
          "output_type": "display_data"
        },
        {
          "data": {
            "text/html": [
              "Run data is saved locally in <code>c:\\Users\\Leandro\\Downloads\\wandb\\run-20240310_185541-wdtzbdjo</code>"
            ],
            "text/plain": [
              "<IPython.core.display.HTML object>"
            ]
          },
          "metadata": {},
          "output_type": "display_data"
        },
        {
          "data": {
            "text/html": [
              "Syncing run <strong><a href='https://wandb.ai/leandro-bello/animal_image_classification/runs/wdtzbdjo' target=\"_blank\">morning-galaxy-30</a></strong> to <a href='https://wandb.ai/leandro-bello/animal_image_classification' target=\"_blank\">Weights & Biases</a> (<a href='https://wandb.me/run' target=\"_blank\">docs</a>)<br/>"
            ],
            "text/plain": [
              "<IPython.core.display.HTML object>"
            ]
          },
          "metadata": {},
          "output_type": "display_data"
        },
        {
          "data": {
            "text/html": [
              " View project at <a href='https://wandb.ai/leandro-bello/animal_image_classification' target=\"_blank\">https://wandb.ai/leandro-bello/animal_image_classification</a>"
            ],
            "text/plain": [
              "<IPython.core.display.HTML object>"
            ]
          },
          "metadata": {},
          "output_type": "display_data"
        },
        {
          "data": {
            "text/html": [
              " View run at <a href='https://wandb.ai/leandro-bello/animal_image_classification/runs/wdtzbdjo' target=\"_blank\">https://wandb.ai/leandro-bello/animal_image_classification/runs/wdtzbdjo</a>"
            ],
            "text/plain": [
              "<IPython.core.display.HTML object>"
            ]
          },
          "metadata": {},
          "output_type": "display_data"
        },
        {
          "name": "stderr",
          "output_type": "stream",
          "text": [
            "\u001b[34m\u001b[1mwandb\u001b[0m: Downloading large artifact img-classifier-v9rhc88r:v0, 532.59MB. 1 files... \n",
            "\u001b[34m\u001b[1mwandb\u001b[0m:   1 of 1 files downloaded.  \n",
            "Done. 0:0:1.8\n"
          ]
        },
        {
          "data": {
            "application/vnd.jupyter.widget-view+json": {
              "model_id": "6b69fd4858dd4cbca362af64dcab5cd2",
              "version_major": 2,
              "version_minor": 0
            },
            "text/plain": [
              "VBox(children=(Label(value='0.001 MB of 0.001 MB uploaded\\r'), FloatProgress(value=1.0, max=1.0)))"
            ]
          },
          "metadata": {},
          "output_type": "display_data"
        },
        {
          "data": {
            "text/html": [
              " View run <strong style=\"color:#cdcd00\">morning-galaxy-30</strong> at: <a href='https://wandb.ai/leandro-bello/animal_image_classification/runs/wdtzbdjo' target=\"_blank\">https://wandb.ai/leandro-bello/animal_image_classification/runs/wdtzbdjo</a><br/>Synced 5 W&B file(s), 0 media file(s), 0 artifact file(s) and 0 other file(s)"
            ],
            "text/plain": [
              "<IPython.core.display.HTML object>"
            ]
          },
          "metadata": {},
          "output_type": "display_data"
        },
        {
          "data": {
            "text/html": [
              "Find logs at: <code>.\\wandb\\run-20240310_185541-wdtzbdjo\\logs</code>"
            ],
            "text/plain": [
              "<IPython.core.display.HTML object>"
            ]
          },
          "metadata": {},
          "output_type": "display_data"
        }
      ],
      "source": [
        "with wandb.init(project='animal_image_classification'):\n",
        "    model = vgg19_model\n",
        "    artifact = wandb.use_artifact(\"img-classifier-v9rhc88r:v0\")\n",
        "    datadir = artifact.download()\n",
        "    state_dict = torch.load(datadir + '\\\\model_1.pth')\n",
        "    model.load_state_dict(state_dict)\n",
        "    #path = artifact.get_entry(\"model_1.pth\")"
      ]
    },
    {
      "cell_type": "code",
      "execution_count": 38,
      "metadata": {},
      "outputs": [
        {
          "data": {
            "text/plain": [
              "torch.Size([3, 200, 200])"
            ]
          },
          "execution_count": 38,
          "metadata": {},
          "output_type": "execute_result"
        }
      ],
      "source": [
        "processed_image.shape"
      ]
    },
    {
      "cell_type": "code",
      "execution_count": 56,
      "metadata": {},
      "outputs": [
        {
          "name": "stdout",
          "output_type": "stream",
          "text": [
            "{'butterfly': ' 0.00',\n",
            " 'cat': ' 1.00',\n",
            " 'chicken': ' 0.00',\n",
            " 'cow': ' 0.00',\n",
            " 'dog': ' 0.00',\n",
            " 'elephant': ' 0.00',\n",
            " 'horse': ' 0.00',\n",
            " 'sheep': ' 0.00',\n",
            " 'spider': ' 0.00',\n",
            " 'squirrel': ' 0.00'}\n"
          ]
        },
        {
          "data": {
            "image/png": "[encoded data removed]",
            "text/plain": [
              "<Figure size 640x480 with 1 Axes>"
            ]
          },
          "metadata": {},
          "output_type": "display_data"
        }
      ],
      "source": [
        "inference_transforms = torchvision.transforms.Compose([\n",
        "                    torchvision.transforms.Resize(size = (200, 200)),\n",
        "                    torchvision.transforms.ToTensor()])\n",
        "\n",
        "image_path = r\"C:\\Users\\Leandro\\Downloads\\WhatsApp Image 2024-02-23 at 19.20.42.jpeg\"\n",
        "image = Image.open(image_path)\n",
        "plt.imshow(image)\n",
        "plt.xticks([])\n",
        "plt.yticks([])\n",
        "processed_image = inference_transforms(image).unsqueeze(0).to(device)\n",
        "model.to(device)\n",
        "model.eval()\n",
        "outputs = torch.softmax(model(processed_image), dim=1)[0]\n",
        "prob_dict = {key:f'{value.item(): .2f}' for key,value in zip(labels, outputs)}\n",
        "pprint.pprint(prob_dict)"
      ]
    },
    {
      "cell_type": "code",
      "execution_count": 33,
      "metadata": {},
      "outputs": [
        {
          "data": {
            "text/plain": [
              "<All keys matched successfully>"
            ]
          },
          "execution_count": 33,
          "metadata": {},
          "output_type": "execute_result"
        }
      ],
      "source": [
        "state_dict = torch.load(datadir + '\\\\model_1.pth')\n",
        "# Carga el state_dict en el modelo\n",
        "model.load_state_dict(state_dict)"
      ]
    },
    {
      "cell_type": "code",
      "execution_count": 30,
      "metadata": {
        "id": "sb38bqOs0lCJ"
      },
      "outputs": [],
      "source": [
        "from sklearn.metrics import recall_score\n",
        "import copy"
      ]
    },
    {
      "cell_type": "code",
      "execution_count": 31,
      "metadata": {
        "id": "rKmcltNc55-5"
      },
      "outputs": [],
      "source": [
        "def train(config=None):\n",
        "    global n, best_model, model, best_loss, epoch\n",
        "\n",
        "    model = copy.deepcopy(vgg19_model)\n",
        "    accuracy_metric = torchmetrics.classification.MulticlassAccuracy(num_classes = len(labels))\n",
        "    model.to(device)\n",
        "    accuracy_metric.to(device)\n",
        "\n",
        "    # Initialize a new wandb run\n",
        "    with wandb.init(config=config, name=f'run_{n}'):\n",
        "        # If called by wandb.agent, as below,\n",
        "        # this config will be set by Sweep Controller\n",
        "        config = wandb.config\n",
        "        train_loader = build_batch(train_set, config.batch_size)\n",
        "        optimizer, scheduler = build_optimizer(model, config.optimizer, config.learning_rate, train_loader, config.batch_size, config.epochs)\n",
        "        current_lr = get_lr(optimizer)\n",
        "\n",
        "        # LOG DATA AUGMENTATION\n",
        "        log_data_augmentation()\n",
        "\n",
        "        table = wandb.Table(columns=['Image', 'Label', 'Prediction', 'Right/Wrong', 'Probs'] + labels)\n",
        "\n",
        "        for epoch in tqdm(range(config.epochs), desc=\"Epochs\"):\n",
        "            epoch_train_loss, epoch_train_accuracy, epoch_valid_loss, epoch_valid_accuracy, epoch_train_micro_recall, epoch_valid_micro_recall, model, train_data = train_epoch(train_loader, optimizer, scheduler, accuracy_metric)\n",
        "            wandb.log({\n",
        "                \"train loss\": epoch_train_loss,\n",
        "                \"train accuracy\": epoch_train_accuracy,\n",
        "                \"train recall\": epoch_train_micro_recall,\n",
        "                \"valid loss\": epoch_valid_loss,\n",
        "                \"valid accuracy\": epoch_valid_accuracy,\n",
        "                \"valid recall\": epoch_valid_micro_recall,\n",
        "                \"learning rate\": current_lr})\n",
        "\n",
        "        is_best = epoch_valid_loss < best_loss\n",
        "        best_loss = min(epoch_valid_loss, best_loss)\n",
        "\n",
        "        # Save the model in the exchangeable ONNX format\n",
        "        #torch.onnx.export(model, train_data, f\"model_{n}.onnx\")\n",
        "        art = wandb.Artifact(f\"img-classifier-{wandb.run.id}\",\n",
        "                            type = 'model',\n",
        "                            metadata = {'format': 'onnx',\n",
        "                                        'num_classes': len(labels),\n",
        "                                        'model_type': 'vgg19'})\n",
        "\n",
        "        #art.add_file(f\"model_{n}.onnx\")\n",
        "        torch.save(model.state_dict(), f\"model_{n}.pth\")\n",
        "        art.add_file(f\"model_{n}.pth\")\n",
        "\n",
        "        # Add aliases to keep track of your best checkpoints over time\n",
        "        wandb.log_artifact(art, aliases=[\"best\", \"latest\"] if is_best else None)\n",
        "        if is_best:\n",
        "            best_model = art\n",
        "\n",
        "        # CARGO EL CLASSIFICATION REPORT\n",
        "        y_true = []\n",
        "        y_pred = []\n",
        "        for test_data, test_target in tqdm(test_loader, desc=\"Generating classification report\"):\n",
        "            test_data = test_data.to(device)\n",
        "            test_target = list(test_target.to(device).detach().cpu().numpy())\n",
        "            output = model(test_data)\n",
        "            output = list(torch.argmax(output, dim=1).detach().cpu().numpy())\n",
        "            y_true.extend(test_target)\n",
        "            y_pred.extend(output)\n",
        "        log_classification_report(y_true, y_pred, labels, n)\n",
        "\n",
        "        # GENERO LOS GRADCAMS\n",
        "        generate_grad_cam_images(model, test_loader)\n",
        "\n",
        "        # CARGO LAS PREDICCIONES DE TEST\n",
        "        for b, (test_data, test_target) in tqdm(enumerate(sample_test_loader), desc=\"Generating predictions\"):\n",
        "            test_data = test_data.to(device)\n",
        "            test_target = test_target.to(device).detach().cpu().numpy()\n",
        "            preds = model(test_data)\n",
        "            probs = torch.softmax(preds, dim=1).detach().cpu().numpy()\n",
        "            preds = torch.argmax(torch.softmax(preds, dim=1), dim=1).detach().cpu().numpy()\n",
        "            for i, (label, pred) in enumerate(zip(test_target, preds)):\n",
        "                true_label = labels[label.item()]\n",
        "                guess_label = labels[pred.item()]\n",
        "                transformacion_pil = torchvision.transforms.ToPILImage()\n",
        "                img = transformacion_pil(test_data[i].detach().cpu())\n",
        "                img.save(f\"C:/Users/Leandro/Desktop/Animal_classifier/GradCAM_imgs/img_{i}.png\")\n",
        "                right_or_wrong = \"right\" if true_label == guess_label else \"wrong\"\n",
        "                prob_dict = {label: prob for label, prob in zip(labels, probs[i])}\n",
        "                table.add_data(wandb.Image(f\"C:/Users/Leandro/Desktop/Animal_classifier/GradCAM_imgs/img_{i}.png\"),\n",
        "                               true_label,\n",
        "                               guess_label,\n",
        "                               right_or_wrong,\n",
        "                               prob_dict,\n",
        "                               wandb.Image(f\"C:/Users/Leandro/Desktop/Animal_classifier/GradCAM_imgs/grad_(batch-{b})_(img-{i})_(label-{0}).png\"),\n",
        "                               wandb.Image(f\"C:/Users/Leandro/Desktop/Animal_classifier/GradCAM_imgs/grad_(batch-{b})_(img-{i})_(label-{1}).png\"),\n",
        "                               wandb.Image(f\"C:/Users/Leandro/Desktop/Animal_classifier/GradCAM_imgs/grad_(batch-{b})_(img-{i})_(label-{2}).png\"),\n",
        "                               wandb.Image(f\"C:/Users/Leandro/Desktop/Animal_classifier/GradCAM_imgs/grad_(batch-{b})_(img-{i})_(label-{3}).png\"),\n",
        "                               wandb.Image(f\"C:/Users/Leandro/Desktop/Animal_classifier/GradCAM_imgs/grad_(batch-{b})_(img-{i})_(label-{4}).png\"),\n",
        "                               wandb.Image(f\"C:/Users/Leandro/Desktop/Animal_classifier/GradCAM_imgs/grad_(batch-{b})_(img-{i})_(label-{5}).png\"),\n",
        "                               wandb.Image(f\"C:/Users/Leandro/Desktop/Animal_classifier/GradCAM_imgs/grad_(batch-{b})_(img-{i})_(label-{6}).png\"),\n",
        "                               wandb.Image(f\"C:/Users/Leandro/Desktop/Animal_classifier/GradCAM_imgs/grad_(batch-{b})_(img-{i})_(label-{7}).png\"),\n",
        "                               wandb.Image(f\"C:/Users/Leandro/Desktop/Animal_classifier/GradCAM_imgs/grad_(batch-{b})_(img-{i})_(label-{8}).png\"),\n",
        "                               wandb.Image(f\"C:/Users/Leandro/Desktop/Animal_classifier/GradCAM_imgs/grad_(batch-{b})_(img-{i})_(label-{9}).png\"),)\n",
        "\n",
        "        wandb.log({f\"exp_{n}\": table})\n",
        "    n += 1"
      ]
    },
    {
      "cell_type": "code",
      "execution_count": 33,
      "metadata": {
        "id": "cA6qN6wr94g_"
      },
      "outputs": [],
      "source": [
        "from sklearn.metrics import classification_report, accuracy_score\n",
        "\n",
        "def log_classification_report(y_true, y_pred, labels, n):\n",
        "\n",
        "    report_dict = classification_report(y_true, y_pred, target_names=labels, output_dict=True)\n",
        "    accuracy = accuracy_score(y_true, y_pred)\n",
        "\n",
        "    data = pd.DataFrame(report_dict)\n",
        "    data.insert(0, \"METRIC\", ['PRECISION', 'RECALL', 'F1-SCORE', 'SUPPORT'])\n",
        "    data.columns = data.columns.astype(str)\n",
        "\n",
        "    tabla = wandb.Table(\n",
        "        dataframe=data,\n",
        "        allow_mixed_types=True)\n",
        "\n",
        "    wandb.log({f\"classification_report_{n}\": tabla})"
      ]
    },
    {
      "cell_type": "code",
      "execution_count": 40,
      "metadata": {
        "id": "ZeRvQfUE5-Jz"
      },
      "outputs": [],
      "source": [
        "def build_optimizer(model, optimizer, learning_rate, train_loader, batch_size, epochs):\n",
        "    if optimizer == \"sgd\":\n",
        "        optimizer = torch.optim.SGD(model.parameters(),\n",
        "                              lr=learning_rate, momentum=0.9)\n",
        "    elif optimizer == \"adam\":\n",
        "        optimizer = torch.optim.Adam(model.parameters(),\n",
        "                               lr=learning_rate)\n",
        "\n",
        "    total_steps = int(len(train_loader) * epochs)\n",
        "    warmup_steps = max(int(total_steps * 0.1), 1)\n",
        "    warmup_coef = 20\n",
        "\n",
        "    scheduler = lr_scheduler.LambdaLR(optimizer, lr_lambda=lambda step: warmup_linear_decay(step, warmup_steps, warmup_coef, total_steps, learning_rate, learning_rate * 0.01))\n",
        "    return optimizer, scheduler\n",
        "\n",
        "def build_batch(train_set, batch_size):\n",
        "    train_loader = DataLoader(train_set, batch_size = batch_size, shuffle = True)\n",
        "    return train_loader\n",
        "\n",
        "def train_epoch(train_loader, optimizer, scheduler, accuracy_metric):\n",
        "\n",
        "    global train_target, output\n",
        "\n",
        "    train_loss = []\n",
        "    train_acc = []\n",
        "    valid_loss = []\n",
        "    valid_acc = []\n",
        "\n",
        "    # Pongo el modelo en modo entrenamiento\n",
        "    model.train()\n",
        "\n",
        "    epoch_train_loss = 0.0\n",
        "    epoch_train_accuracy = 0.0\n",
        "    epoch_train_micro_recall = 0.0\n",
        "\n",
        "    step = 1\n",
        "\n",
        "    #for step, (train_data, train_target) in tqdm(enumerate(train_loader), desc=\"Training\"):\n",
        "    for train_data, train_target in tqdm(train_loader, desc=\"Training\"):\n",
        "\n",
        "        step_ = step + epoch * len(train_loader)\n",
        "\n",
        "        train_data = train_data.to(device)\n",
        "        train_target = train_target.to(device)\n",
        "\n",
        "        optimizer.zero_grad()\n",
        "        #current_lr = get_lr(optimizer)\n",
        "        output = model(train_data)\n",
        "        loss = criterion(output, train_target)\n",
        "        epoch_train_loss += loss.item()\n",
        "        loss.backward()\n",
        "        optimizer.step()\n",
        "        scheduler.step()\n",
        "\n",
        "        output = torch.argmax(torch.softmax(output, dim=1), dim=1)\n",
        "\n",
        "        accuracy = accuracy_metric(output, train_target).item()\n",
        "        epoch_train_accuracy += accuracy\n",
        "        micro_recall_train = recall_score(train_target.detach().cpu().numpy(), output.detach().cpu().numpy(), average='micro')\n",
        "        epoch_train_micro_recall += micro_recall_train\n",
        "\n",
        "        #wandb.log({\n",
        "        #        \"train loss\": loss.item(),\n",
        "        #        \"train accuracy\": accuracy,\n",
        "        #        \"train recall\": micro_recall_train,\n",
        "        #        \"learning rate\": current_lr}, step=step_)\n",
        "\n",
        "        step += 1\n",
        "\n",
        "    epoch_train_loss = epoch_train_loss / len(train_loader)\n",
        "    epoch_train_accuracy = epoch_train_accuracy / len(train_loader)\n",
        "    epoch_train_micro_recall = epoch_train_micro_recall / len(train_loader)\n",
        "    train_loss.append(epoch_train_loss)\n",
        "    train_acc.append(epoch_train_accuracy)\n",
        "\n",
        "    # Pongo el modelo en modo evaluación\n",
        "    model.eval()\n",
        "\n",
        "    epoch_valid_loss = 0.0\n",
        "    epoch_valid_accuracy = 0.0\n",
        "    epoch_valid_micro_recall = 0.0\n",
        "\n",
        "    for valid_data, valid_target in tqdm(valid_loader, desc=\"Validating\"):\n",
        "\n",
        "        valid_data = valid_data.to(device)\n",
        "        valid_target = valid_target.to(device)\n",
        "\n",
        "        output = model(valid_data)\n",
        "        loss = criterion(output, valid_target)\n",
        "        epoch_valid_loss += loss.item()\n",
        "\n",
        "        output = torch.argmax(torch.softmax(output, dim=1), dim=1)\n",
        "\n",
        "        accuracy = accuracy_metric(output, valid_target).item()\n",
        "        epoch_valid_accuracy += accuracy\n",
        "        micro_recall_valid = recall_score(valid_target.detach().cpu().numpy(), output.detach().cpu().numpy(), average='micro')\n",
        "        epoch_valid_micro_recall += micro_recall_valid\n",
        "\n",
        "    epoch_valid_loss = epoch_valid_loss / len(valid_loader)\n",
        "    epoch_valid_accuracy = epoch_valid_accuracy / len(valid_loader)\n",
        "    epoch_valid_micro_recall = epoch_valid_micro_recall / len(valid_loader)\n",
        "    valid_loss.append(epoch_valid_loss)\n",
        "    valid_acc.append(epoch_valid_accuracy)\n",
        "\n",
        "    #if epoch == 0:\n",
        "    #    wandb.log({\n",
        "    #          \"valid loss\": epoch_valid_loss,\n",
        "    #          \"valid accuracy\": epoch_valid_accuracy,\n",
        "    #          \"valid recall\": epoch_valid_micro_recall}, step=1)\n",
        "\n",
        "    #wandb.log({\n",
        "    #        \"valid loss\": epoch_valid_loss,\n",
        "    #        \"valid accuracy\": epoch_valid_accuracy,\n",
        "    #        \"valid recall\": epoch_valid_micro_recall}, step=step_)\n",
        "\n",
        "    return epoch_train_loss, epoch_train_accuracy, epoch_valid_loss, epoch_valid_accuracy, epoch_train_micro_recall, epoch_valid_micro_recall, model, train_data"
      ]
    },
    {
      "cell_type": "code",
      "execution_count": 41,
      "metadata": {
        "id": "FNWqW_fjk1De"
      },
      "outputs": [],
      "source": [
        "from torch.optim import lr_scheduler\n",
        "\n",
        "def get_lr(optimizer):\n",
        "    lr = optimizer.param_groups[0]['lr']\n",
        "    return lr\n",
        "\n",
        "def warmup_linear_decay(current_step, warmup_steps, warmup_coef, total_steps, lr_init, lr_end):\n",
        "    warmup_ratio = warmup_coef/warmup_steps\n",
        "    if current_step <= warmup_steps:\n",
        "        # Calentamiento lineal\n",
        "        lr = lr_init + (1+warmup_ratio*current_step)\n",
        "    else:\n",
        "        # Decrecimiento lineal después del calentamiento\n",
        "        peak = lr_init + (1+warmup_ratio*warmup_steps)\n",
        "        ratio = (peak - lr_end)/(total_steps-warmup_steps)\n",
        "        lr = peak - (current_step - warmup_steps) * ratio\n",
        "\n",
        "    return max(lr, lr_end)"
      ]
    },
    {
      "cell_type": "code",
      "execution_count": 42,
      "metadata": {
        "id": "bTUwlV7Qq48Q"
      },
      "outputs": [],
      "source": [
        "class Model(torch.nn.Module):\n",
        "    def __init__(self, model):\n",
        "        super(Model, self).__init__()\n",
        "\n",
        "        # get the model network\n",
        "        self.model = model\n",
        "\n",
        "        # disect the network to access its last convolutional layer\n",
        "        self.features_conv = torch.nn.Sequential(*list(self.model.children())[:-1])\n",
        "        # self.features_conv = self.model.features[:36]\n",
        "\n",
        "        # get the max pool of the features stem\n",
        "        # self.max_pool = torch.nn.MaxPool2d(kernel_size=2, stride=2, padding=0, dilation=1, ceil_mode=False)\n",
        "\n",
        "        # get the classifier of the vgg19\n",
        "        self.classifier = self.model.classifier\n",
        "\n",
        "        # placeholder for the gradients\n",
        "        self.gradients = None\n",
        "\n",
        "        for param in self.model.parameters():\n",
        "            param.requires_grad = True\n",
        "\n",
        "    # hook for the gradients of the activations\n",
        "    def activations_hook(self, grad):\n",
        "        self.gradients = grad\n",
        "\n",
        "    def forward(self, x):\n",
        "\n",
        "        x = self.features_conv(x)\n",
        "\n",
        "        # register the hook\n",
        "        h = x.register_hook(self.activations_hook)\n",
        "\n",
        "        # apply the remaining pooling\n",
        "        # x = self.max_pool(x)\n",
        "        x = x.view((1, -1))\n",
        "        x = self.classifier(x)\n",
        "        return x\n",
        "\n",
        "    # method for the gradient extraction\n",
        "    def get_activations_gradient(self):\n",
        "        return self.gradients\n",
        "\n",
        "    # method for the activation exctraction\n",
        "    def get_activations(self, x):\n",
        "        return self.features_conv(x)\n",
        "\n",
        "def generate_grad_cam_images(model, loader):\n",
        "\n",
        "    model.to(device)\n",
        "    model.eval()\n",
        "\n",
        "    grad_model = Model(model)\n",
        "    grad_model.eval()\n",
        "\n",
        "    # load image to mix with heatmap\n",
        "    for b, (test_data, test_target) in tqdm(enumerate(loader), desc='Generating grad cams'):\n",
        "\n",
        "        test_data = test_data.to(device)\n",
        "        test_target = test_target.to(device)\n",
        "\n",
        "        # img shape\n",
        "        batch_size, c, h, w = test_data.shape\n",
        "\n",
        "        # aspect ratio\n",
        "        aspect_ratio = h / w\n",
        "\n",
        "        # make prediction\n",
        "        #output = torch.argmax(probs, dim=1)\n",
        "\n",
        "        for i in range(len(test_data)):\n",
        "            for c in range(len(labels)):\n",
        "\n",
        "                # get the most likely prediction of the model\n",
        "                probs = torch.softmax(grad_model(test_data[i]), dim=1)\n",
        "\n",
        "                # get the gradient of the output with respect to the parameters of the model\n",
        "                probs[:, c].backward()\n",
        "\n",
        "                # pull the gradients out of the model\n",
        "                gradients = grad_model.get_activations_gradient()\n",
        "\n",
        "                # pool the gradients across the channels\n",
        "                pooled_gradients = torch.mean(gradients, dim=[1,2])\n",
        "\n",
        "                # get the activations of the last convolutional layer\n",
        "                activations = grad_model.get_activations(test_data[i]).detach()\n",
        "\n",
        "                # weight the channels by corresponding gradients\n",
        "                for k in range(512):\n",
        "                    activations[k, :, :] *= pooled_gradients[k]\n",
        "\n",
        "                # average the channels of the activations\n",
        "                heatmap = torch.mean(activations, dim=0).cpu().numpy()\n",
        "\n",
        "                # relu on top of the heatmap\n",
        "                # expression (2) in https://arxiv.org/pdf/1610.02391.pdf\n",
        "                heatmap = np.maximum(heatmap, 1e-80)\n",
        "\n",
        "                # normalize the heatmap\n",
        "                max_value = np.max(heatmap)\n",
        "                if max_value != 0:\n",
        "                    heatmap /= max_value\n",
        "\n",
        "                heatmap = cv.resize(heatmap, (test_data[i].shape[1], test_data[i].shape[2]))\n",
        "                heatmap = np.uint8(255 * heatmap)\n",
        "                heatmap = cv.applyColorMap(heatmap, cv.COLORMAP_JET)\n",
        "                heatmap = (np.transpose(heatmap, (2, 0, 1))/255).astype(np.float32)\n",
        "\n",
        "                superimposed_img = cv.addWeighted(test_data[i].cpu().numpy(), 0.7, heatmap, 0.3, 0)\n",
        "                superimposed_img = np.transpose(superimposed_img, (1, 2, 0))\n",
        "\n",
        "                imagen_pil = Image.fromarray(np.uint8(superimposed_img*255))\n",
        "\n",
        "                imagen_pil.save(f\"C:/Users/Leandro/Desktop/Animal_classifier/GradCAM_imgs/grad_(batch-{b})_(img-{i})_(label-{c}).png\")"
      ]
    },
    {
      "cell_type": "code",
      "execution_count": 43,
      "metadata": {
        "id": "ILXomjnRJ-bn"
      },
      "outputs": [],
      "source": [
        "#model = vgg19_model\n",
        "#generate_grad_cam_images(model, sample_test_loader)"
      ]
    },
    {
      "cell_type": "code",
      "execution_count": 44,
      "metadata": {
        "id": "-zJx652K-ab9"
      },
      "outputs": [],
      "source": [
        "#from IPython.display import display\n",
        "#\n",
        "#for i in range(10):\n",
        "#  imagen_pil = Image.open(f'/content/grad_(batch:0)_(img:0)_(label:{i}).png')\n",
        "#  display(imagen_pil)"
      ]
    },
    {
      "cell_type": "code",
      "execution_count": null,
      "metadata": {
        "colab": {
          "base_uri": "https://localhost:8080/",
          "height": 417,
          "referenced_widgets": [
            "d074563bfd53450d9811a37ffd7bb5c4",
            "b82a40bef7bb413b8f39e201e492594b",
            "0a6270343ed448089c8b4074311580c5",
            "fbbd46ce685944089e9bcd224269ddbc",
            "528a3720dcc04fd79e4927877b4194ae",
            "8b98a4a24b0e4507a3fa84b18869dc56",
            "638d5beb79af4fdba51efa18a07534ce",
            "be77d7e2c42a4aa99126788a1cb3a3e5",
            "588549bceea74818b42c45c030a20a70",
            "f76e485c9272465799cefa4c92d061b5",
            "a0d5ba48448f47a39a57e337e4b26ec2",
            "faa865f9a6bd4f038ac14534b47f9727",
            "a97df2e330594853b30d499c1588d4ea",
            "1096dc6526bf4ee6b5b69aab4321d737",
            "3a8df7a57d6847dfa9396a07fbf8f59c",
            "ff9d8ccb935a44fea687edff7359c041",
            "dafdeb9d211e4c999aa02ee1092d63a2",
            "ce378cd80fca4cf79758de9eed0610ff",
            "9fc180caad4648d7b9f4658c49ae3795",
            "186513e1578e4d2eb6c53997e79eec85",
            "6848dd085cc44e75b797d200af357954",
            "1ab03e768de546788d23b46f8e924bb1",
            "6743759a4ca945e5be3148c5fc81e9b8",
            "3a957614116d41a6918bba0abeecec01",
            "fc3076a2ccab4f7eb2feeac3ab1e7d38",
            "5e1db0d7a27043879ddaa80d25eee037",
            "aab1db7f5ce244d2b0930432664154e5",
            "052880ce02404acf9e6dea9c2deaf0c7",
            "2e4e582885904a419bb71ce15bb06e07",
            "7f5f8011666c41ea95c217ea2fc69120",
            "a346289c66fc4901a50d1551eb3885d9",
            "52993609e247485ab95bcc5de78dba0b",
            "a00bf5d3858a474dab42de2a408f1f09",
            "c298c5d9093644ba81e15d630ecdb6e7",
            "5c567469b9ef4f2691c8b31897880116",
            "e9d51622336944afa4765a78751c7710",
            "b4cb8579588f45108eabbe0740d031ea",
            "fb7dc05a34964d509475b0145934c28e",
            "70fb7a151dbe4970bd09b3094e7e561b",
            "67300a911096463abd95a110dc5ccbf2",
            "1a3e6562b0fc42279f77affff097d003",
            "88a13ff18d1c4a99a29a71f91002f8de",
            "36ce3fb918f84b0587bc294dceca3614",
            "e4b4faf799164306916f3f0f8dc6c3b2",
            "a1e130c3e1ca420597d8a3267a57a168",
            "55c811df0fb043f587df18f9b13f697b",
            "f8d27ebd800b45a68246ba02d7f4ca61",
            "ede574dd43274ef0935fa96b00e0be70",
            "6cfbea72d5384538a0b4dfd497059990",
            "bba2b512720c44dd9551a80bcba5d8fb",
            "a9481a7ff8754987bd64d6ca631195b0",
            "00b98a87897643bd879140697a904de4",
            "22f7e10aa71f4ce385a4a2a150ac5651",
            "75a1ee79c357441ab86f16f93dd91a8a",
            "7f7afffafd5145c5b5643c1166dd4b2b",
            "3562a27562f34e5d8f7b7067da61c043",
            "035714b0ea4b4d56be7bffa2763bdb3f",
            "89d2072ab0bb4ed7a559c0ce4ef35f7b",
            "562516556a7a4578946c41d2ca967341",
            "fc93a17343ba453db38841aa0a7fa624",
            "90eb4407007c4582a30c88d25a61b620",
            "bfb265a4e929456ab5486ecdd7069bb6",
            "f33af241ccf34e92bde41b294690c15f",
            "026ab78bf6a543fea15776276931063e",
            "ecf29ba32a6e4e45a18746dff9d84610",
            "29afd0f5e9144777a37c88434e17f2d1"
          ]
        },
        "id": "c_x8G0rsKX01",
        "outputId": "30f14a12-6e28-4214-e35a-5e2191e0ac2e"
      },
      "outputs": [
        {
          "name": "stderr",
          "output_type": "stream",
          "text": [
            "\u001b[34m\u001b[1mwandb\u001b[0m: Agent Starting Run: vpu11fzr with config:\n",
            "\u001b[34m\u001b[1mwandb\u001b[0m: \tbatch_size: 16\n",
            "\u001b[34m\u001b[1mwandb\u001b[0m: \tepochs: 2\n",
            "\u001b[34m\u001b[1mwandb\u001b[0m: \tlearning_rate: 0.02381032417059511\n",
            "\u001b[34m\u001b[1mwandb\u001b[0m: \toptimizer: sgd\n"
          ]
        },
        {
          "data": {
            "text/html": [
              "Tracking run with wandb version 0.16.4"
            ],
            "text/plain": [
              "<IPython.core.display.HTML object>"
            ]
          },
          "metadata": {},
          "output_type": "display_data"
        },
        {
          "data": {
            "text/html": [
              "Run data is saved locally in <code>/content/wandb/run-20240306_233133-vpu11fzr</code>"
            ],
            "text/plain": [
              "<IPython.core.display.HTML object>"
            ]
          },
          "metadata": {},
          "output_type": "display_data"
        },
        {
          "data": {
            "text/html": [
              "Syncing run <strong><a href='https://wandb.ai/leandro-bello/animal_img_classification/runs/vpu11fzr' target=\"_blank\">first test</a></strong> to <a href='https://wandb.ai/leandro-bello/animal_img_classification' target=\"_blank\">Weights & Biases</a> (<a href='https://wandb.me/run' target=\"_blank\">docs</a>)<br/>Sweep page: <a href='https://wandb.ai/leandro-bello/animal_img_classification/sweeps/f1xstpka' target=\"_blank\">https://wandb.ai/leandro-bello/animal_img_classification/sweeps/f1xstpka</a>"
            ],
            "text/plain": [
              "<IPython.core.display.HTML object>"
            ]
          },
          "metadata": {},
          "output_type": "display_data"
        },
        {
          "data": {
            "text/html": [
              " View project at <a href='https://wandb.ai/leandro-bello/animal_img_classification' target=\"_blank\">https://wandb.ai/leandro-bello/animal_img_classification</a>"
            ],
            "text/plain": [
              "<IPython.core.display.HTML object>"
            ]
          },
          "metadata": {},
          "output_type": "display_data"
        },
        {
          "data": {
            "text/html": [
              " View sweep at <a href='https://wandb.ai/leandro-bello/animal_img_classification/sweeps/f1xstpka' target=\"_blank\">https://wandb.ai/leandro-bello/animal_img_classification/sweeps/f1xstpka</a>"
            ],
            "text/plain": [
              "<IPython.core.display.HTML object>"
            ]
          },
          "metadata": {},
          "output_type": "display_data"
        },
        {
          "data": {
            "text/html": [
              " View run at <a href='https://wandb.ai/leandro-bello/animal_img_classification/runs/vpu11fzr' target=\"_blank\">https://wandb.ai/leandro-bello/animal_img_classification/runs/vpu11fzr</a>"
            ],
            "text/plain": [
              "<IPython.core.display.HTML object>"
            ]
          },
          "metadata": {},
          "output_type": "display_data"
        },
        {
          "data": {
            "application/vnd.jupyter.widget-view+json": {
              "model_id": "d074563bfd53450d9811a37ffd7bb5c4",
              "version_major": 2,
              "version_minor": 0
            },
            "text/plain": [
              "Epochs:   0%|          | 0/2 [00:00<?, ?it/s]"
            ]
          },
          "metadata": {},
          "output_type": "display_data"
        },
        {
          "data": {
            "application/vnd.jupyter.widget-view+json": {
              "model_id": "faa865f9a6bd4f038ac14534b47f9727",
              "version_major": 2,
              "version_minor": 0
            },
            "text/plain": [
              "Training:   0%|          | 0/58 [00:00<?, ?it/s]"
            ]
          },
          "metadata": {},
          "output_type": "display_data"
        },
        {
          "data": {
            "application/vnd.jupyter.widget-view+json": {
              "model_id": "6743759a4ca945e5be3148c5fc81e9b8",
              "version_major": 2,
              "version_minor": 0
            },
            "text/plain": [
              "Validating:   0%|          | 0/13 [00:00<?, ?it/s]"
            ]
          },
          "metadata": {},
          "output_type": "display_data"
        },
        {
          "data": {
            "application/vnd.jupyter.widget-view+json": {
              "model_id": "c298c5d9093644ba81e15d630ecdb6e7",
              "version_major": 2,
              "version_minor": 0
            },
            "text/plain": [
              "Training:   0%|          | 0/58 [00:00<?, ?it/s]"
            ]
          },
          "metadata": {},
          "output_type": "display_data"
        },
        {
          "data": {
            "application/vnd.jupyter.widget-view+json": {
              "model_id": "a1e130c3e1ca420597d8a3267a57a168",
              "version_major": 2,
              "version_minor": 0
            },
            "text/plain": [
              "Validating:   0%|          | 0/13 [00:00<?, ?it/s]"
            ]
          },
          "metadata": {},
          "output_type": "display_data"
        },
        {
          "data": {
            "application/vnd.jupyter.widget-view+json": {
              "model_id": "3562a27562f34e5d8f7b7067da61c043",
              "version_major": 2,
              "version_minor": 0
            },
            "text/plain": [
              "Generating classification report:   0%|          | 0/49 [00:00<?, ?it/s]"
            ]
          },
          "metadata": {},
          "output_type": "display_data"
        }
      ],
      "source": [
        "n = 1\n",
        "best_model = None\n",
        "best_loss = np.inf\n",
        "wandb.agent(sweep_id, train, count=10)"
      ]
    },
    {
      "cell_type": "code",
      "execution_count": 39,
      "metadata": {
        "id": "YPmT5v_nKq8p"
      },
      "outputs": [],
      "source": []
    }
  ],
  "metadata": {
    "accelerator": "GPU",
    "colab": {
      "gpuType": "T4",
      "provenance": []
    },
    "kernelspec": {
      "display_name": "Python 3",
      "name": "python3"
    },
    "language_info": {
      "codemirror_mode": {
        "name": "ipython",
        "version": 3
      },
      "file_extension": ".py",
      "mimetype": "text/x-python",
      "name": "python",
      "nbconvert_exporter": "python",
      "pygments_lexer": "ipython3",
      "version": "3.9.13"
    },
    "widgets": {
      "application/vnd.jupyter.widget-state+json": {
        "00b98a87897643bd879140697a904de4": {
          "model_module": "@jupyter-widgets/base",
          "model_module_version": "1.2.0",
          "model_name": "LayoutModel",
          "state": {
            "_model_module": "@jupyter-widgets/base",
            "_model_module_version": "1.2.0",
            "_model_name": "LayoutModel",
            "_view_count": null,
            "_view_module": "@jupyter-widgets/base",
            "_view_module_version": "1.2.0",
            "_view_name": "LayoutView",
            "align_content": null,
            "align_items": null,
            "align_self": null,
            "border": null,
            "bottom": null,
            "display": null,
            "flex": null,
            "flex_flow": null,
            "grid_area": null,
            "grid_auto_columns": null,
            "grid_auto_flow": null,
            "grid_auto_rows": null,
            "grid_column": null,
            "grid_gap": null,
            "grid_row": null,
            "grid_template_areas": null,
            "grid_template_columns": null,
            "grid_template_rows": null,
            "height": null,
            "justify_content": null,
            "justify_items": null,
            "left": null,
            "margin": null,
            "max_height": null,
            "max_width": null,
            "min_height": null,
            "min_width": null,
            "object_fit": null,
            "object_position": null,
            "order": null,
            "overflow": null,
            "overflow_x": null,
            "overflow_y": null,
            "padding": null,
            "right": null,
            "top": null,
            "visibility": null,
            "width": null
          }
        },
        "026ab78bf6a543fea15776276931063e": {
          "model_module": "@jupyter-widgets/controls",
          "model_module_version": "1.5.0",
          "model_name": "ProgressStyleModel",
          "state": {
            "_model_module": "@jupyter-widgets/controls",
            "_model_module_version": "1.5.0",
            "_model_name": "ProgressStyleModel",
            "_view_count": null,
            "_view_module": "@jupyter-widgets/base",
            "_view_module_version": "1.2.0",
            "_view_name": "StyleView",
            "bar_color": null,
            "description_width": ""
          }
        },
        "035714b0ea4b4d56be7bffa2763bdb3f": {
          "model_module": "@jupyter-widgets/controls",
          "model_module_version": "1.5.0",
          "model_name": "HTMLModel",
          "state": {
            "_dom_classes": [],
            "_model_module": "@jupyter-widgets/controls",
            "_model_module_version": "1.5.0",
            "_model_name": "HTMLModel",
            "_view_count": null,
            "_view_module": "@jupyter-widgets/controls",
            "_view_module_version": "1.5.0",
            "_view_name": "HTMLView",
            "description": "",
            "description_tooltip": null,
            "layout": "IPY_MODEL_90eb4407007c4582a30c88d25a61b620",
            "placeholder": "​",
            "style": "IPY_MODEL_bfb265a4e929456ab5486ecdd7069bb6",
            "value": "Generating classification report:  80%"
          }
        },
        "052880ce02404acf9e6dea9c2deaf0c7": {
          "model_module": "@jupyter-widgets/base",
          "model_module_version": "1.2.0",
          "model_name": "LayoutModel",
          "state": {
            "_model_module": "@jupyter-widgets/base",
            "_model_module_version": "1.2.0",
            "_model_name": "LayoutModel",
            "_view_count": null,
            "_view_module": "@jupyter-widgets/base",
            "_view_module_version": "1.2.0",
            "_view_name": "LayoutView",
            "align_content": null,
            "align_items": null,
            "align_self": null,
            "border": null,
            "bottom": null,
            "display": null,
            "flex": null,
            "flex_flow": null,
            "grid_area": null,
            "grid_auto_columns": null,
            "grid_auto_flow": null,
            "grid_auto_rows": null,
            "grid_column": null,
            "grid_gap": null,
            "grid_row": null,
            "grid_template_areas": null,
            "grid_template_columns": null,
            "grid_template_rows": null,
            "height": null,
            "justify_content": null,
            "justify_items": null,
            "left": null,
            "margin": null,
            "max_height": null,
            "max_width": null,
            "min_height": null,
            "min_width": null,
            "object_fit": null,
            "object_position": null,
            "order": null,
            "overflow": null,
            "overflow_x": null,
            "overflow_y": null,
            "padding": null,
            "right": null,
            "top": null,
            "visibility": null,
            "width": null
          }
        },
        "0a6270343ed448089c8b4074311580c5": {
          "model_module": "@jupyter-widgets/controls",
          "model_module_version": "1.5.0",
          "model_name": "FloatProgressModel",
          "state": {
            "_dom_classes": [],
            "_model_module": "@jupyter-widgets/controls",
            "_model_module_version": "1.5.0",
            "_model_name": "FloatProgressModel",
            "_view_count": null,
            "_view_module": "@jupyter-widgets/controls",
            "_view_module_version": "1.5.0",
            "_view_name": "ProgressView",
            "bar_style": "success",
            "description": "",
            "description_tooltip": null,
            "layout": "IPY_MODEL_be77d7e2c42a4aa99126788a1cb3a3e5",
            "max": 2,
            "min": 0,
            "orientation": "horizontal",
            "style": "IPY_MODEL_588549bceea74818b42c45c030a20a70",
            "value": 2
          }
        },
        "1096dc6526bf4ee6b5b69aab4321d737": {
          "model_module": "@jupyter-widgets/controls",
          "model_module_version": "1.5.0",
          "model_name": "FloatProgressModel",
          "state": {
            "_dom_classes": [],
            "_model_module": "@jupyter-widgets/controls",
            "_model_module_version": "1.5.0",
            "_model_name": "FloatProgressModel",
            "_view_count": null,
            "_view_module": "@jupyter-widgets/controls",
            "_view_module_version": "1.5.0",
            "_view_name": "ProgressView",
            "bar_style": "success",
            "description": "",
            "description_tooltip": null,
            "layout": "IPY_MODEL_9fc180caad4648d7b9f4658c49ae3795",
            "max": 58,
            "min": 0,
            "orientation": "horizontal",
            "style": "IPY_MODEL_186513e1578e4d2eb6c53997e79eec85",
            "value": 58
          }
        },
        "186513e1578e4d2eb6c53997e79eec85": {
          "model_module": "@jupyter-widgets/controls",
          "model_module_version": "1.5.0",
          "model_name": "ProgressStyleModel",
          "state": {
            "_model_module": "@jupyter-widgets/controls",
            "_model_module_version": "1.5.0",
            "_model_name": "ProgressStyleModel",
            "_view_count": null,
            "_view_module": "@jupyter-widgets/base",
            "_view_module_version": "1.2.0",
            "_view_name": "StyleView",
            "bar_color": null,
            "description_width": ""
          }
        },
        "1a3e6562b0fc42279f77affff097d003": {
          "model_module": "@jupyter-widgets/base",
          "model_module_version": "1.2.0",
          "model_name": "LayoutModel",
          "state": {
            "_model_module": "@jupyter-widgets/base",
            "_model_module_version": "1.2.0",
            "_model_name": "LayoutModel",
            "_view_count": null,
            "_view_module": "@jupyter-widgets/base",
            "_view_module_version": "1.2.0",
            "_view_name": "LayoutView",
            "align_content": null,
            "align_items": null,
            "align_self": null,
            "border": null,
            "bottom": null,
            "display": null,
            "flex": null,
            "flex_flow": null,
            "grid_area": null,
            "grid_auto_columns": null,
            "grid_auto_flow": null,
            "grid_auto_rows": null,
            "grid_column": null,
            "grid_gap": null,
            "grid_row": null,
            "grid_template_areas": null,
            "grid_template_columns": null,
            "grid_template_rows": null,
            "height": null,
            "justify_content": null,
            "justify_items": null,
            "left": null,
            "margin": null,
            "max_height": null,
            "max_width": null,
            "min_height": null,
            "min_width": null,
            "object_fit": null,
            "object_position": null,
            "order": null,
            "overflow": null,
            "overflow_x": null,
            "overflow_y": null,
            "padding": null,
            "right": null,
            "top": null,
            "visibility": null,
            "width": null
          }
        },
        "1ab03e768de546788d23b46f8e924bb1": {
          "model_module": "@jupyter-widgets/controls",
          "model_module_version": "1.5.0",
          "model_name": "DescriptionStyleModel",
          "state": {
            "_model_module": "@jupyter-widgets/controls",
            "_model_module_version": "1.5.0",
            "_model_name": "DescriptionStyleModel",
            "_view_count": null,
            "_view_module": "@jupyter-widgets/base",
            "_view_module_version": "1.2.0",
            "_view_name": "StyleView",
            "description_width": ""
          }
        },
        "22f7e10aa71f4ce385a4a2a150ac5651": {
          "model_module": "@jupyter-widgets/controls",
          "model_module_version": "1.5.0",
          "model_name": "ProgressStyleModel",
          "state": {
            "_model_module": "@jupyter-widgets/controls",
            "_model_module_version": "1.5.0",
            "_model_name": "ProgressStyleModel",
            "_view_count": null,
            "_view_module": "@jupyter-widgets/base",
            "_view_module_version": "1.2.0",
            "_view_name": "StyleView",
            "bar_color": null,
            "description_width": ""
          }
        },
        "29afd0f5e9144777a37c88434e17f2d1": {
          "model_module": "@jupyter-widgets/controls",
          "model_module_version": "1.5.0",
          "model_name": "DescriptionStyleModel",
          "state": {
            "_model_module": "@jupyter-widgets/controls",
            "_model_module_version": "1.5.0",
            "_model_name": "DescriptionStyleModel",
            "_view_count": null,
            "_view_module": "@jupyter-widgets/base",
            "_view_module_version": "1.2.0",
            "_view_name": "StyleView",
            "description_width": ""
          }
        },
        "2e4e582885904a419bb71ce15bb06e07": {
          "model_module": "@jupyter-widgets/controls",
          "model_module_version": "1.5.0",
          "model_name": "DescriptionStyleModel",
          "state": {
            "_model_module": "@jupyter-widgets/controls",
            "_model_module_version": "1.5.0",
            "_model_name": "DescriptionStyleModel",
            "_view_count": null,
            "_view_module": "@jupyter-widgets/base",
            "_view_module_version": "1.2.0",
            "_view_name": "StyleView",
            "description_width": ""
          }
        },
        "3562a27562f34e5d8f7b7067da61c043": {
          "model_module": "@jupyter-widgets/controls",
          "model_module_version": "1.5.0",
          "model_name": "HBoxModel",
          "state": {
            "_dom_classes": [],
            "_model_module": "@jupyter-widgets/controls",
            "_model_module_version": "1.5.0",
            "_model_name": "HBoxModel",
            "_view_count": null,
            "_view_module": "@jupyter-widgets/controls",
            "_view_module_version": "1.5.0",
            "_view_name": "HBoxView",
            "box_style": "",
            "children": [
              "IPY_MODEL_035714b0ea4b4d56be7bffa2763bdb3f",
              "IPY_MODEL_89d2072ab0bb4ed7a559c0ce4ef35f7b",
              "IPY_MODEL_562516556a7a4578946c41d2ca967341"
            ],
            "layout": "IPY_MODEL_fc93a17343ba453db38841aa0a7fa624"
          }
        },
        "36ce3fb918f84b0587bc294dceca3614": {
          "model_module": "@jupyter-widgets/base",
          "model_module_version": "1.2.0",
          "model_name": "LayoutModel",
          "state": {
            "_model_module": "@jupyter-widgets/base",
            "_model_module_version": "1.2.0",
            "_model_name": "LayoutModel",
            "_view_count": null,
            "_view_module": "@jupyter-widgets/base",
            "_view_module_version": "1.2.0",
            "_view_name": "LayoutView",
            "align_content": null,
            "align_items": null,
            "align_self": null,
            "border": null,
            "bottom": null,
            "display": null,
            "flex": null,
            "flex_flow": null,
            "grid_area": null,
            "grid_auto_columns": null,
            "grid_auto_flow": null,
            "grid_auto_rows": null,
            "grid_column": null,
            "grid_gap": null,
            "grid_row": null,
            "grid_template_areas": null,
            "grid_template_columns": null,
            "grid_template_rows": null,
            "height": null,
            "justify_content": null,
            "justify_items": null,
            "left": null,
            "margin": null,
            "max_height": null,
            "max_width": null,
            "min_height": null,
            "min_width": null,
            "object_fit": null,
            "object_position": null,
            "order": null,
            "overflow": null,
            "overflow_x": null,
            "overflow_y": null,
            "padding": null,
            "right": null,
            "top": null,
            "visibility": null,
            "width": null
          }
        },
        "3a8df7a57d6847dfa9396a07fbf8f59c": {
          "model_module": "@jupyter-widgets/controls",
          "model_module_version": "1.5.0",
          "model_name": "HTMLModel",
          "state": {
            "_dom_classes": [],
            "_model_module": "@jupyter-widgets/controls",
            "_model_module_version": "1.5.0",
            "_model_name": "HTMLModel",
            "_view_count": null,
            "_view_module": "@jupyter-widgets/controls",
            "_view_module_version": "1.5.0",
            "_view_name": "HTMLView",
            "description": "",
            "description_tooltip": null,
            "layout": "IPY_MODEL_6848dd085cc44e75b797d200af357954",
            "placeholder": "​",
            "style": "IPY_MODEL_1ab03e768de546788d23b46f8e924bb1",
            "value": " 58/58 [11:13&lt;00:00,  8.96s/it]"
          }
        },
        "3a957614116d41a6918bba0abeecec01": {
          "model_module": "@jupyter-widgets/controls",
          "model_module_version": "1.5.0",
          "model_name": "HTMLModel",
          "state": {
            "_dom_classes": [],
            "_model_module": "@jupyter-widgets/controls",
            "_model_module_version": "1.5.0",
            "_model_name": "HTMLModel",
            "_view_count": null,
            "_view_module": "@jupyter-widgets/controls",
            "_view_module_version": "1.5.0",
            "_view_name": "HTMLView",
            "description": "",
            "description_tooltip": null,
            "layout": "IPY_MODEL_052880ce02404acf9e6dea9c2deaf0c7",
            "placeholder": "​",
            "style": "IPY_MODEL_2e4e582885904a419bb71ce15bb06e07",
            "value": "Validating: 100%"
          }
        },
        "528a3720dcc04fd79e4927877b4194ae": {
          "model_module": "@jupyter-widgets/base",
          "model_module_version": "1.2.0",
          "model_name": "LayoutModel",
          "state": {
            "_model_module": "@jupyter-widgets/base",
            "_model_module_version": "1.2.0",
            "_model_name": "LayoutModel",
            "_view_count": null,
            "_view_module": "@jupyter-widgets/base",
            "_view_module_version": "1.2.0",
            "_view_name": "LayoutView",
            "align_content": null,
            "align_items": null,
            "align_self": null,
            "border": null,
            "bottom": null,
            "display": null,
            "flex": null,
            "flex_flow": null,
            "grid_area": null,
            "grid_auto_columns": null,
            "grid_auto_flow": null,
            "grid_auto_rows": null,
            "grid_column": null,
            "grid_gap": null,
            "grid_row": null,
            "grid_template_areas": null,
            "grid_template_columns": null,
            "grid_template_rows": null,
            "height": null,
            "justify_content": null,
            "justify_items": null,
            "left": null,
            "margin": null,
            "max_height": null,
            "max_width": null,
            "min_height": null,
            "min_width": null,
            "object_fit": null,
            "object_position": null,
            "order": null,
            "overflow": null,
            "overflow_x": null,
            "overflow_y": null,
            "padding": null,
            "right": null,
            "top": null,
            "visibility": null,
            "width": null
          }
        },
        "52993609e247485ab95bcc5de78dba0b": {
          "model_module": "@jupyter-widgets/base",
          "model_module_version": "1.2.0",
          "model_name": "LayoutModel",
          "state": {
            "_model_module": "@jupyter-widgets/base",
            "_model_module_version": "1.2.0",
            "_model_name": "LayoutModel",
            "_view_count": null,
            "_view_module": "@jupyter-widgets/base",
            "_view_module_version": "1.2.0",
            "_view_name": "LayoutView",
            "align_content": null,
            "align_items": null,
            "align_self": null,
            "border": null,
            "bottom": null,
            "display": null,
            "flex": null,
            "flex_flow": null,
            "grid_area": null,
            "grid_auto_columns": null,
            "grid_auto_flow": null,
            "grid_auto_rows": null,
            "grid_column": null,
            "grid_gap": null,
            "grid_row": null,
            "grid_template_areas": null,
            "grid_template_columns": null,
            "grid_template_rows": null,
            "height": null,
            "justify_content": null,
            "justify_items": null,
            "left": null,
            "margin": null,
            "max_height": null,
            "max_width": null,
            "min_height": null,
            "min_width": null,
            "object_fit": null,
            "object_position": null,
            "order": null,
            "overflow": null,
            "overflow_x": null,
            "overflow_y": null,
            "padding": null,
            "right": null,
            "top": null,
            "visibility": null,
            "width": null
          }
        },
        "55c811df0fb043f587df18f9b13f697b": {
          "model_module": "@jupyter-widgets/controls",
          "model_module_version": "1.5.0",
          "model_name": "HTMLModel",
          "state": {
            "_dom_classes": [],
            "_model_module": "@jupyter-widgets/controls",
            "_model_module_version": "1.5.0",
            "_model_name": "HTMLModel",
            "_view_count": null,
            "_view_module": "@jupyter-widgets/controls",
            "_view_module_version": "1.5.0",
            "_view_name": "HTMLView",
            "description": "",
            "description_tooltip": null,
            "layout": "IPY_MODEL_bba2b512720c44dd9551a80bcba5d8fb",
            "placeholder": "​",
            "style": "IPY_MODEL_a9481a7ff8754987bd64d6ca631195b0",
            "value": "Validating: 100%"
          }
        },
        "562516556a7a4578946c41d2ca967341": {
          "model_module": "@jupyter-widgets/controls",
          "model_module_version": "1.5.0",
          "model_name": "HTMLModel",
          "state": {
            "_dom_classes": [],
            "_model_module": "@jupyter-widgets/controls",
            "_model_module_version": "1.5.0",
            "_model_name": "HTMLModel",
            "_view_count": null,
            "_view_module": "@jupyter-widgets/controls",
            "_view_module_version": "1.5.0",
            "_view_name": "HTMLView",
            "description": "",
            "description_tooltip": null,
            "layout": "IPY_MODEL_ecf29ba32a6e4e45a18746dff9d84610",
            "placeholder": "​",
            "style": "IPY_MODEL_29afd0f5e9144777a37c88434e17f2d1",
            "value": " 39/49 [06:34&lt;01:41, 10.20s/it]"
          }
        },
        "588549bceea74818b42c45c030a20a70": {
          "model_module": "@jupyter-widgets/controls",
          "model_module_version": "1.5.0",
          "model_name": "ProgressStyleModel",
          "state": {
            "_model_module": "@jupyter-widgets/controls",
            "_model_module_version": "1.5.0",
            "_model_name": "ProgressStyleModel",
            "_view_count": null,
            "_view_module": "@jupyter-widgets/base",
            "_view_module_version": "1.2.0",
            "_view_name": "StyleView",
            "bar_color": null,
            "description_width": ""
          }
        },
        "5c567469b9ef4f2691c8b31897880116": {
          "model_module": "@jupyter-widgets/controls",
          "model_module_version": "1.5.0",
          "model_name": "HTMLModel",
          "state": {
            "_dom_classes": [],
            "_model_module": "@jupyter-widgets/controls",
            "_model_module_version": "1.5.0",
            "_model_name": "HTMLModel",
            "_view_count": null,
            "_view_module": "@jupyter-widgets/controls",
            "_view_module_version": "1.5.0",
            "_view_name": "HTMLView",
            "description": "",
            "description_tooltip": null,
            "layout": "IPY_MODEL_70fb7a151dbe4970bd09b3094e7e561b",
            "placeholder": "​",
            "style": "IPY_MODEL_67300a911096463abd95a110dc5ccbf2",
            "value": "Training: 100%"
          }
        },
        "5e1db0d7a27043879ddaa80d25eee037": {
          "model_module": "@jupyter-widgets/controls",
          "model_module_version": "1.5.0",
          "model_name": "HTMLModel",
          "state": {
            "_dom_classes": [],
            "_model_module": "@jupyter-widgets/controls",
            "_model_module_version": "1.5.0",
            "_model_name": "HTMLModel",
            "_view_count": null,
            "_view_module": "@jupyter-widgets/controls",
            "_view_module_version": "1.5.0",
            "_view_name": "HTMLView",
            "description": "",
            "description_tooltip": null,
            "layout": "IPY_MODEL_52993609e247485ab95bcc5de78dba0b",
            "placeholder": "​",
            "style": "IPY_MODEL_a00bf5d3858a474dab42de2a408f1f09",
            "value": " 13/13 [02:58&lt;00:00,  9.73s/it]"
          }
        },
        "638d5beb79af4fdba51efa18a07534ce": {
          "model_module": "@jupyter-widgets/controls",
          "model_module_version": "1.5.0",
          "model_name": "DescriptionStyleModel",
          "state": {
            "_model_module": "@jupyter-widgets/controls",
            "_model_module_version": "1.5.0",
            "_model_name": "DescriptionStyleModel",
            "_view_count": null,
            "_view_module": "@jupyter-widgets/base",
            "_view_module_version": "1.2.0",
            "_view_name": "StyleView",
            "description_width": ""
          }
        },
        "67300a911096463abd95a110dc5ccbf2": {
          "model_module": "@jupyter-widgets/controls",
          "model_module_version": "1.5.0",
          "model_name": "DescriptionStyleModel",
          "state": {
            "_model_module": "@jupyter-widgets/controls",
            "_model_module_version": "1.5.0",
            "_model_name": "DescriptionStyleModel",
            "_view_count": null,
            "_view_module": "@jupyter-widgets/base",
            "_view_module_version": "1.2.0",
            "_view_name": "StyleView",
            "description_width": ""
          }
        },
        "6743759a4ca945e5be3148c5fc81e9b8": {
          "model_module": "@jupyter-widgets/controls",
          "model_module_version": "1.5.0",
          "model_name": "HBoxModel",
          "state": {
            "_dom_classes": [],
            "_model_module": "@jupyter-widgets/controls",
            "_model_module_version": "1.5.0",
            "_model_name": "HBoxModel",
            "_view_count": null,
            "_view_module": "@jupyter-widgets/controls",
            "_view_module_version": "1.5.0",
            "_view_name": "HBoxView",
            "box_style": "",
            "children": [
              "IPY_MODEL_3a957614116d41a6918bba0abeecec01",
              "IPY_MODEL_fc3076a2ccab4f7eb2feeac3ab1e7d38",
              "IPY_MODEL_5e1db0d7a27043879ddaa80d25eee037"
            ],
            "layout": "IPY_MODEL_aab1db7f5ce244d2b0930432664154e5"
          }
        },
        "6848dd085cc44e75b797d200af357954": {
          "model_module": "@jupyter-widgets/base",
          "model_module_version": "1.2.0",
          "model_name": "LayoutModel",
          "state": {
            "_model_module": "@jupyter-widgets/base",
            "_model_module_version": "1.2.0",
            "_model_name": "LayoutModel",
            "_view_count": null,
            "_view_module": "@jupyter-widgets/base",
            "_view_module_version": "1.2.0",
            "_view_name": "LayoutView",
            "align_content": null,
            "align_items": null,
            "align_self": null,
            "border": null,
            "bottom": null,
            "display": null,
            "flex": null,
            "flex_flow": null,
            "grid_area": null,
            "grid_auto_columns": null,
            "grid_auto_flow": null,
            "grid_auto_rows": null,
            "grid_column": null,
            "grid_gap": null,
            "grid_row": null,
            "grid_template_areas": null,
            "grid_template_columns": null,
            "grid_template_rows": null,
            "height": null,
            "justify_content": null,
            "justify_items": null,
            "left": null,
            "margin": null,
            "max_height": null,
            "max_width": null,
            "min_height": null,
            "min_width": null,
            "object_fit": null,
            "object_position": null,
            "order": null,
            "overflow": null,
            "overflow_x": null,
            "overflow_y": null,
            "padding": null,
            "right": null,
            "top": null,
            "visibility": null,
            "width": null
          }
        },
        "6cfbea72d5384538a0b4dfd497059990": {
          "model_module": "@jupyter-widgets/base",
          "model_module_version": "1.2.0",
          "model_name": "LayoutModel",
          "state": {
            "_model_module": "@jupyter-widgets/base",
            "_model_module_version": "1.2.0",
            "_model_name": "LayoutModel",
            "_view_count": null,
            "_view_module": "@jupyter-widgets/base",
            "_view_module_version": "1.2.0",
            "_view_name": "LayoutView",
            "align_content": null,
            "align_items": null,
            "align_self": null,
            "border": null,
            "bottom": null,
            "display": null,
            "flex": null,
            "flex_flow": null,
            "grid_area": null,
            "grid_auto_columns": null,
            "grid_auto_flow": null,
            "grid_auto_rows": null,
            "grid_column": null,
            "grid_gap": null,
            "grid_row": null,
            "grid_template_areas": null,
            "grid_template_columns": null,
            "grid_template_rows": null,
            "height": null,
            "justify_content": null,
            "justify_items": null,
            "left": null,
            "margin": null,
            "max_height": null,
            "max_width": null,
            "min_height": null,
            "min_width": null,
            "object_fit": null,
            "object_position": null,
            "order": null,
            "overflow": null,
            "overflow_x": null,
            "overflow_y": null,
            "padding": null,
            "right": null,
            "top": null,
            "visibility": null,
            "width": null
          }
        },
        "70fb7a151dbe4970bd09b3094e7e561b": {
          "model_module": "@jupyter-widgets/base",
          "model_module_version": "1.2.0",
          "model_name": "LayoutModel",
          "state": {
            "_model_module": "@jupyter-widgets/base",
            "_model_module_version": "1.2.0",
            "_model_name": "LayoutModel",
            "_view_count": null,
            "_view_module": "@jupyter-widgets/base",
            "_view_module_version": "1.2.0",
            "_view_name": "LayoutView",
            "align_content": null,
            "align_items": null,
            "align_self": null,
            "border": null,
            "bottom": null,
            "display": null,
            "flex": null,
            "flex_flow": null,
            "grid_area": null,
            "grid_auto_columns": null,
            "grid_auto_flow": null,
            "grid_auto_rows": null,
            "grid_column": null,
            "grid_gap": null,
            "grid_row": null,
            "grid_template_areas": null,
            "grid_template_columns": null,
            "grid_template_rows": null,
            "height": null,
            "justify_content": null,
            "justify_items": null,
            "left": null,
            "margin": null,
            "max_height": null,
            "max_width": null,
            "min_height": null,
            "min_width": null,
            "object_fit": null,
            "object_position": null,
            "order": null,
            "overflow": null,
            "overflow_x": null,
            "overflow_y": null,
            "padding": null,
            "right": null,
            "top": null,
            "visibility": null,
            "width": null
          }
        },
        "75a1ee79c357441ab86f16f93dd91a8a": {
          "model_module": "@jupyter-widgets/base",
          "model_module_version": "1.2.0",
          "model_name": "LayoutModel",
          "state": {
            "_model_module": "@jupyter-widgets/base",
            "_model_module_version": "1.2.0",
            "_model_name": "LayoutModel",
            "_view_count": null,
            "_view_module": "@jupyter-widgets/base",
            "_view_module_version": "1.2.0",
            "_view_name": "LayoutView",
            "align_content": null,
            "align_items": null,
            "align_self": null,
            "border": null,
            "bottom": null,
            "display": null,
            "flex": null,
            "flex_flow": null,
            "grid_area": null,
            "grid_auto_columns": null,
            "grid_auto_flow": null,
            "grid_auto_rows": null,
            "grid_column": null,
            "grid_gap": null,
            "grid_row": null,
            "grid_template_areas": null,
            "grid_template_columns": null,
            "grid_template_rows": null,
            "height": null,
            "justify_content": null,
            "justify_items": null,
            "left": null,
            "margin": null,
            "max_height": null,
            "max_width": null,
            "min_height": null,
            "min_width": null,
            "object_fit": null,
            "object_position": null,
            "order": null,
            "overflow": null,
            "overflow_x": null,
            "overflow_y": null,
            "padding": null,
            "right": null,
            "top": null,
            "visibility": null,
            "width": null
          }
        },
        "7f5f8011666c41ea95c217ea2fc69120": {
          "model_module": "@jupyter-widgets/base",
          "model_module_version": "1.2.0",
          "model_name": "LayoutModel",
          "state": {
            "_model_module": "@jupyter-widgets/base",
            "_model_module_version": "1.2.0",
            "_model_name": "LayoutModel",
            "_view_count": null,
            "_view_module": "@jupyter-widgets/base",
            "_view_module_version": "1.2.0",
            "_view_name": "LayoutView",
            "align_content": null,
            "align_items": null,
            "align_self": null,
            "border": null,
            "bottom": null,
            "display": null,
            "flex": null,
            "flex_flow": null,
            "grid_area": null,
            "grid_auto_columns": null,
            "grid_auto_flow": null,
            "grid_auto_rows": null,
            "grid_column": null,
            "grid_gap": null,
            "grid_row": null,
            "grid_template_areas": null,
            "grid_template_columns": null,
            "grid_template_rows": null,
            "height": null,
            "justify_content": null,
            "justify_items": null,
            "left": null,
            "margin": null,
            "max_height": null,
            "max_width": null,
            "min_height": null,
            "min_width": null,
            "object_fit": null,
            "object_position": null,
            "order": null,
            "overflow": null,
            "overflow_x": null,
            "overflow_y": null,
            "padding": null,
            "right": null,
            "top": null,
            "visibility": null,
            "width": null
          }
        },
        "7f7afffafd5145c5b5643c1166dd4b2b": {
          "model_module": "@jupyter-widgets/controls",
          "model_module_version": "1.5.0",
          "model_name": "DescriptionStyleModel",
          "state": {
            "_model_module": "@jupyter-widgets/controls",
            "_model_module_version": "1.5.0",
            "_model_name": "DescriptionStyleModel",
            "_view_count": null,
            "_view_module": "@jupyter-widgets/base",
            "_view_module_version": "1.2.0",
            "_view_name": "StyleView",
            "description_width": ""
          }
        },
        "88a13ff18d1c4a99a29a71f91002f8de": {
          "model_module": "@jupyter-widgets/controls",
          "model_module_version": "1.5.0",
          "model_name": "ProgressStyleModel",
          "state": {
            "_model_module": "@jupyter-widgets/controls",
            "_model_module_version": "1.5.0",
            "_model_name": "ProgressStyleModel",
            "_view_count": null,
            "_view_module": "@jupyter-widgets/base",
            "_view_module_version": "1.2.0",
            "_view_name": "StyleView",
            "bar_color": null,
            "description_width": ""
          }
        },
        "89d2072ab0bb4ed7a559c0ce4ef35f7b": {
          "model_module": "@jupyter-widgets/controls",
          "model_module_version": "1.5.0",
          "model_name": "FloatProgressModel",
          "state": {
            "_dom_classes": [],
            "_model_module": "@jupyter-widgets/controls",
            "_model_module_version": "1.5.0",
            "_model_name": "FloatProgressModel",
            "_view_count": null,
            "_view_module": "@jupyter-widgets/controls",
            "_view_module_version": "1.5.0",
            "_view_name": "ProgressView",
            "bar_style": "",
            "description": "",
            "description_tooltip": null,
            "layout": "IPY_MODEL_f33af241ccf34e92bde41b294690c15f",
            "max": 49,
            "min": 0,
            "orientation": "horizontal",
            "style": "IPY_MODEL_026ab78bf6a543fea15776276931063e",
            "value": 39
          }
        },
        "8b98a4a24b0e4507a3fa84b18869dc56": {
          "model_module": "@jupyter-widgets/base",
          "model_module_version": "1.2.0",
          "model_name": "LayoutModel",
          "state": {
            "_model_module": "@jupyter-widgets/base",
            "_model_module_version": "1.2.0",
            "_model_name": "LayoutModel",
            "_view_count": null,
            "_view_module": "@jupyter-widgets/base",
            "_view_module_version": "1.2.0",
            "_view_name": "LayoutView",
            "align_content": null,
            "align_items": null,
            "align_self": null,
            "border": null,
            "bottom": null,
            "display": null,
            "flex": null,
            "flex_flow": null,
            "grid_area": null,
            "grid_auto_columns": null,
            "grid_auto_flow": null,
            "grid_auto_rows": null,
            "grid_column": null,
            "grid_gap": null,
            "grid_row": null,
            "grid_template_areas": null,
            "grid_template_columns": null,
            "grid_template_rows": null,
            "height": null,
            "justify_content": null,
            "justify_items": null,
            "left": null,
            "margin": null,
            "max_height": null,
            "max_width": null,
            "min_height": null,
            "min_width": null,
            "object_fit": null,
            "object_position": null,
            "order": null,
            "overflow": null,
            "overflow_x": null,
            "overflow_y": null,
            "padding": null,
            "right": null,
            "top": null,
            "visibility": null,
            "width": null
          }
        },
        "90eb4407007c4582a30c88d25a61b620": {
          "model_module": "@jupyter-widgets/base",
          "model_module_version": "1.2.0",
          "model_name": "LayoutModel",
          "state": {
            "_model_module": "@jupyter-widgets/base",
            "_model_module_version": "1.2.0",
            "_model_name": "LayoutModel",
            "_view_count": null,
            "_view_module": "@jupyter-widgets/base",
            "_view_module_version": "1.2.0",
            "_view_name": "LayoutView",
            "align_content": null,
            "align_items": null,
            "align_self": null,
            "border": null,
            "bottom": null,
            "display": null,
            "flex": null,
            "flex_flow": null,
            "grid_area": null,
            "grid_auto_columns": null,
            "grid_auto_flow": null,
            "grid_auto_rows": null,
            "grid_column": null,
            "grid_gap": null,
            "grid_row": null,
            "grid_template_areas": null,
            "grid_template_columns": null,
            "grid_template_rows": null,
            "height": null,
            "justify_content": null,
            "justify_items": null,
            "left": null,
            "margin": null,
            "max_height": null,
            "max_width": null,
            "min_height": null,
            "min_width": null,
            "object_fit": null,
            "object_position": null,
            "order": null,
            "overflow": null,
            "overflow_x": null,
            "overflow_y": null,
            "padding": null,
            "right": null,
            "top": null,
            "visibility": null,
            "width": null
          }
        },
        "9fc180caad4648d7b9f4658c49ae3795": {
          "model_module": "@jupyter-widgets/base",
          "model_module_version": "1.2.0",
          "model_name": "LayoutModel",
          "state": {
            "_model_module": "@jupyter-widgets/base",
            "_model_module_version": "1.2.0",
            "_model_name": "LayoutModel",
            "_view_count": null,
            "_view_module": "@jupyter-widgets/base",
            "_view_module_version": "1.2.0",
            "_view_name": "LayoutView",
            "align_content": null,
            "align_items": null,
            "align_self": null,
            "border": null,
            "bottom": null,
            "display": null,
            "flex": null,
            "flex_flow": null,
            "grid_area": null,
            "grid_auto_columns": null,
            "grid_auto_flow": null,
            "grid_auto_rows": null,
            "grid_column": null,
            "grid_gap": null,
            "grid_row": null,
            "grid_template_areas": null,
            "grid_template_columns": null,
            "grid_template_rows": null,
            "height": null,
            "justify_content": null,
            "justify_items": null,
            "left": null,
            "margin": null,
            "max_height": null,
            "max_width": null,
            "min_height": null,
            "min_width": null,
            "object_fit": null,
            "object_position": null,
            "order": null,
            "overflow": null,
            "overflow_x": null,
            "overflow_y": null,
            "padding": null,
            "right": null,
            "top": null,
            "visibility": null,
            "width": null
          }
        },
        "a00bf5d3858a474dab42de2a408f1f09": {
          "model_module": "@jupyter-widgets/controls",
          "model_module_version": "1.5.0",
          "model_name": "DescriptionStyleModel",
          "state": {
            "_model_module": "@jupyter-widgets/controls",
            "_model_module_version": "1.5.0",
            "_model_name": "DescriptionStyleModel",
            "_view_count": null,
            "_view_module": "@jupyter-widgets/base",
            "_view_module_version": "1.2.0",
            "_view_name": "StyleView",
            "description_width": ""
          }
        },
        "a0d5ba48448f47a39a57e337e4b26ec2": {
          "model_module": "@jupyter-widgets/controls",
          "model_module_version": "1.5.0",
          "model_name": "DescriptionStyleModel",
          "state": {
            "_model_module": "@jupyter-widgets/controls",
            "_model_module_version": "1.5.0",
            "_model_name": "DescriptionStyleModel",
            "_view_count": null,
            "_view_module": "@jupyter-widgets/base",
            "_view_module_version": "1.2.0",
            "_view_name": "StyleView",
            "description_width": ""
          }
        },
        "a1e130c3e1ca420597d8a3267a57a168": {
          "model_module": "@jupyter-widgets/controls",
          "model_module_version": "1.5.0",
          "model_name": "HBoxModel",
          "state": {
            "_dom_classes": [],
            "_model_module": "@jupyter-widgets/controls",
            "_model_module_version": "1.5.0",
            "_model_name": "HBoxModel",
            "_view_count": null,
            "_view_module": "@jupyter-widgets/controls",
            "_view_module_version": "1.5.0",
            "_view_name": "HBoxView",
            "box_style": "",
            "children": [
              "IPY_MODEL_55c811df0fb043f587df18f9b13f697b",
              "IPY_MODEL_f8d27ebd800b45a68246ba02d7f4ca61",
              "IPY_MODEL_ede574dd43274ef0935fa96b00e0be70"
            ],
            "layout": "IPY_MODEL_6cfbea72d5384538a0b4dfd497059990"
          }
        },
        "a346289c66fc4901a50d1551eb3885d9": {
          "model_module": "@jupyter-widgets/controls",
          "model_module_version": "1.5.0",
          "model_name": "ProgressStyleModel",
          "state": {
            "_model_module": "@jupyter-widgets/controls",
            "_model_module_version": "1.5.0",
            "_model_name": "ProgressStyleModel",
            "_view_count": null,
            "_view_module": "@jupyter-widgets/base",
            "_view_module_version": "1.2.0",
            "_view_name": "StyleView",
            "bar_color": null,
            "description_width": ""
          }
        },
        "a9481a7ff8754987bd64d6ca631195b0": {
          "model_module": "@jupyter-widgets/controls",
          "model_module_version": "1.5.0",
          "model_name": "DescriptionStyleModel",
          "state": {
            "_model_module": "@jupyter-widgets/controls",
            "_model_module_version": "1.5.0",
            "_model_name": "DescriptionStyleModel",
            "_view_count": null,
            "_view_module": "@jupyter-widgets/base",
            "_view_module_version": "1.2.0",
            "_view_name": "StyleView",
            "description_width": ""
          }
        },
        "a97df2e330594853b30d499c1588d4ea": {
          "model_module": "@jupyter-widgets/controls",
          "model_module_version": "1.5.0",
          "model_name": "HTMLModel",
          "state": {
            "_dom_classes": [],
            "_model_module": "@jupyter-widgets/controls",
            "_model_module_version": "1.5.0",
            "_model_name": "HTMLModel",
            "_view_count": null,
            "_view_module": "@jupyter-widgets/controls",
            "_view_module_version": "1.5.0",
            "_view_name": "HTMLView",
            "description": "",
            "description_tooltip": null,
            "layout": "IPY_MODEL_dafdeb9d211e4c999aa02ee1092d63a2",
            "placeholder": "​",
            "style": "IPY_MODEL_ce378cd80fca4cf79758de9eed0610ff",
            "value": "Training: 100%"
          }
        },
        "aab1db7f5ce244d2b0930432664154e5": {
          "model_module": "@jupyter-widgets/base",
          "model_module_version": "1.2.0",
          "model_name": "LayoutModel",
          "state": {
            "_model_module": "@jupyter-widgets/base",
            "_model_module_version": "1.2.0",
            "_model_name": "LayoutModel",
            "_view_count": null,
            "_view_module": "@jupyter-widgets/base",
            "_view_module_version": "1.2.0",
            "_view_name": "LayoutView",
            "align_content": null,
            "align_items": null,
            "align_self": null,
            "border": null,
            "bottom": null,
            "display": null,
            "flex": null,
            "flex_flow": null,
            "grid_area": null,
            "grid_auto_columns": null,
            "grid_auto_flow": null,
            "grid_auto_rows": null,
            "grid_column": null,
            "grid_gap": null,
            "grid_row": null,
            "grid_template_areas": null,
            "grid_template_columns": null,
            "grid_template_rows": null,
            "height": null,
            "justify_content": null,
            "justify_items": null,
            "left": null,
            "margin": null,
            "max_height": null,
            "max_width": null,
            "min_height": null,
            "min_width": null,
            "object_fit": null,
            "object_position": null,
            "order": null,
            "overflow": null,
            "overflow_x": null,
            "overflow_y": null,
            "padding": null,
            "right": null,
            "top": null,
            "visibility": null,
            "width": null
          }
        },
        "b4cb8579588f45108eabbe0740d031ea": {
          "model_module": "@jupyter-widgets/controls",
          "model_module_version": "1.5.0",
          "model_name": "HTMLModel",
          "state": {
            "_dom_classes": [],
            "_model_module": "@jupyter-widgets/controls",
            "_model_module_version": "1.5.0",
            "_model_name": "HTMLModel",
            "_view_count": null,
            "_view_module": "@jupyter-widgets/controls",
            "_view_module_version": "1.5.0",
            "_view_name": "HTMLView",
            "description": "",
            "description_tooltip": null,
            "layout": "IPY_MODEL_36ce3fb918f84b0587bc294dceca3614",
            "placeholder": "​",
            "style": "IPY_MODEL_e4b4faf799164306916f3f0f8dc6c3b2",
            "value": " 58/58 [10:51&lt;00:00,  9.27s/it]"
          }
        },
        "b82a40bef7bb413b8f39e201e492594b": {
          "model_module": "@jupyter-widgets/controls",
          "model_module_version": "1.5.0",
          "model_name": "HTMLModel",
          "state": {
            "_dom_classes": [],
            "_model_module": "@jupyter-widgets/controls",
            "_model_module_version": "1.5.0",
            "_model_name": "HTMLModel",
            "_view_count": null,
            "_view_module": "@jupyter-widgets/controls",
            "_view_module_version": "1.5.0",
            "_view_name": "HTMLView",
            "description": "",
            "description_tooltip": null,
            "layout": "IPY_MODEL_8b98a4a24b0e4507a3fa84b18869dc56",
            "placeholder": "​",
            "style": "IPY_MODEL_638d5beb79af4fdba51efa18a07534ce",
            "value": "Epochs: 100%"
          }
        },
        "bba2b512720c44dd9551a80bcba5d8fb": {
          "model_module": "@jupyter-widgets/base",
          "model_module_version": "1.2.0",
          "model_name": "LayoutModel",
          "state": {
            "_model_module": "@jupyter-widgets/base",
            "_model_module_version": "1.2.0",
            "_model_name": "LayoutModel",
            "_view_count": null,
            "_view_module": "@jupyter-widgets/base",
            "_view_module_version": "1.2.0",
            "_view_name": "LayoutView",
            "align_content": null,
            "align_items": null,
            "align_self": null,
            "border": null,
            "bottom": null,
            "display": null,
            "flex": null,
            "flex_flow": null,
            "grid_area": null,
            "grid_auto_columns": null,
            "grid_auto_flow": null,
            "grid_auto_rows": null,
            "grid_column": null,
            "grid_gap": null,
            "grid_row": null,
            "grid_template_areas": null,
            "grid_template_columns": null,
            "grid_template_rows": null,
            "height": null,
            "justify_content": null,
            "justify_items": null,
            "left": null,
            "margin": null,
            "max_height": null,
            "max_width": null,
            "min_height": null,
            "min_width": null,
            "object_fit": null,
            "object_position": null,
            "order": null,
            "overflow": null,
            "overflow_x": null,
            "overflow_y": null,
            "padding": null,
            "right": null,
            "top": null,
            "visibility": null,
            "width": null
          }
        },
        "be77d7e2c42a4aa99126788a1cb3a3e5": {
          "model_module": "@jupyter-widgets/base",
          "model_module_version": "1.2.0",
          "model_name": "LayoutModel",
          "state": {
            "_model_module": "@jupyter-widgets/base",
            "_model_module_version": "1.2.0",
            "_model_name": "LayoutModel",
            "_view_count": null,
            "_view_module": "@jupyter-widgets/base",
            "_view_module_version": "1.2.0",
            "_view_name": "LayoutView",
            "align_content": null,
            "align_items": null,
            "align_self": null,
            "border": null,
            "bottom": null,
            "display": null,
            "flex": null,
            "flex_flow": null,
            "grid_area": null,
            "grid_auto_columns": null,
            "grid_auto_flow": null,
            "grid_auto_rows": null,
            "grid_column": null,
            "grid_gap": null,
            "grid_row": null,
            "grid_template_areas": null,
            "grid_template_columns": null,
            "grid_template_rows": null,
            "height": null,
            "justify_content": null,
            "justify_items": null,
            "left": null,
            "margin": null,
            "max_height": null,
            "max_width": null,
            "min_height": null,
            "min_width": null,
            "object_fit": null,
            "object_position": null,
            "order": null,
            "overflow": null,
            "overflow_x": null,
            "overflow_y": null,
            "padding": null,
            "right": null,
            "top": null,
            "visibility": null,
            "width": null
          }
        },
        "bfb265a4e929456ab5486ecdd7069bb6": {
          "model_module": "@jupyter-widgets/controls",
          "model_module_version": "1.5.0",
          "model_name": "DescriptionStyleModel",
          "state": {
            "_model_module": "@jupyter-widgets/controls",
            "_model_module_version": "1.5.0",
            "_model_name": "DescriptionStyleModel",
            "_view_count": null,
            "_view_module": "@jupyter-widgets/base",
            "_view_module_version": "1.2.0",
            "_view_name": "StyleView",
            "description_width": ""
          }
        },
        "c298c5d9093644ba81e15d630ecdb6e7": {
          "model_module": "@jupyter-widgets/controls",
          "model_module_version": "1.5.0",
          "model_name": "HBoxModel",
          "state": {
            "_dom_classes": [],
            "_model_module": "@jupyter-widgets/controls",
            "_model_module_version": "1.5.0",
            "_model_name": "HBoxModel",
            "_view_count": null,
            "_view_module": "@jupyter-widgets/controls",
            "_view_module_version": "1.5.0",
            "_view_name": "HBoxView",
            "box_style": "",
            "children": [
              "IPY_MODEL_5c567469b9ef4f2691c8b31897880116",
              "IPY_MODEL_e9d51622336944afa4765a78751c7710",
              "IPY_MODEL_b4cb8579588f45108eabbe0740d031ea"
            ],
            "layout": "IPY_MODEL_fb7dc05a34964d509475b0145934c28e"
          }
        },
        "ce378cd80fca4cf79758de9eed0610ff": {
          "model_module": "@jupyter-widgets/controls",
          "model_module_version": "1.5.0",
          "model_name": "DescriptionStyleModel",
          "state": {
            "_model_module": "@jupyter-widgets/controls",
            "_model_module_version": "1.5.0",
            "_model_name": "DescriptionStyleModel",
            "_view_count": null,
            "_view_module": "@jupyter-widgets/base",
            "_view_module_version": "1.2.0",
            "_view_name": "StyleView",
            "description_width": ""
          }
        },
        "d074563bfd53450d9811a37ffd7bb5c4": {
          "model_module": "@jupyter-widgets/controls",
          "model_module_version": "1.5.0",
          "model_name": "HBoxModel",
          "state": {
            "_dom_classes": [],
            "_model_module": "@jupyter-widgets/controls",
            "_model_module_version": "1.5.0",
            "_model_name": "HBoxModel",
            "_view_count": null,
            "_view_module": "@jupyter-widgets/controls",
            "_view_module_version": "1.5.0",
            "_view_name": "HBoxView",
            "box_style": "",
            "children": [
              "IPY_MODEL_b82a40bef7bb413b8f39e201e492594b",
              "IPY_MODEL_0a6270343ed448089c8b4074311580c5",
              "IPY_MODEL_fbbd46ce685944089e9bcd224269ddbc"
            ],
            "layout": "IPY_MODEL_528a3720dcc04fd79e4927877b4194ae"
          }
        },
        "dafdeb9d211e4c999aa02ee1092d63a2": {
          "model_module": "@jupyter-widgets/base",
          "model_module_version": "1.2.0",
          "model_name": "LayoutModel",
          "state": {
            "_model_module": "@jupyter-widgets/base",
            "_model_module_version": "1.2.0",
            "_model_name": "LayoutModel",
            "_view_count": null,
            "_view_module": "@jupyter-widgets/base",
            "_view_module_version": "1.2.0",
            "_view_name": "LayoutView",
            "align_content": null,
            "align_items": null,
            "align_self": null,
            "border": null,
            "bottom": null,
            "display": null,
            "flex": null,
            "flex_flow": null,
            "grid_area": null,
            "grid_auto_columns": null,
            "grid_auto_flow": null,
            "grid_auto_rows": null,
            "grid_column": null,
            "grid_gap": null,
            "grid_row": null,
            "grid_template_areas": null,
            "grid_template_columns": null,
            "grid_template_rows": null,
            "height": null,
            "justify_content": null,
            "justify_items": null,
            "left": null,
            "margin": null,
            "max_height": null,
            "max_width": null,
            "min_height": null,
            "min_width": null,
            "object_fit": null,
            "object_position": null,
            "order": null,
            "overflow": null,
            "overflow_x": null,
            "overflow_y": null,
            "padding": null,
            "right": null,
            "top": null,
            "visibility": null,
            "width": null
          }
        },
        "e4b4faf799164306916f3f0f8dc6c3b2": {
          "model_module": "@jupyter-widgets/controls",
          "model_module_version": "1.5.0",
          "model_name": "DescriptionStyleModel",
          "state": {
            "_model_module": "@jupyter-widgets/controls",
            "_model_module_version": "1.5.0",
            "_model_name": "DescriptionStyleModel",
            "_view_count": null,
            "_view_module": "@jupyter-widgets/base",
            "_view_module_version": "1.2.0",
            "_view_name": "StyleView",
            "description_width": ""
          }
        },
        "e9d51622336944afa4765a78751c7710": {
          "model_module": "@jupyter-widgets/controls",
          "model_module_version": "1.5.0",
          "model_name": "FloatProgressModel",
          "state": {
            "_dom_classes": [],
            "_model_module": "@jupyter-widgets/controls",
            "_model_module_version": "1.5.0",
            "_model_name": "FloatProgressModel",
            "_view_count": null,
            "_view_module": "@jupyter-widgets/controls",
            "_view_module_version": "1.5.0",
            "_view_name": "ProgressView",
            "bar_style": "success",
            "description": "",
            "description_tooltip": null,
            "layout": "IPY_MODEL_1a3e6562b0fc42279f77affff097d003",
            "max": 58,
            "min": 0,
            "orientation": "horizontal",
            "style": "IPY_MODEL_88a13ff18d1c4a99a29a71f91002f8de",
            "value": 58
          }
        },
        "ecf29ba32a6e4e45a18746dff9d84610": {
          "model_module": "@jupyter-widgets/base",
          "model_module_version": "1.2.0",
          "model_name": "LayoutModel",
          "state": {
            "_model_module": "@jupyter-widgets/base",
            "_model_module_version": "1.2.0",
            "_model_name": "LayoutModel",
            "_view_count": null,
            "_view_module": "@jupyter-widgets/base",
            "_view_module_version": "1.2.0",
            "_view_name": "LayoutView",
            "align_content": null,
            "align_items": null,
            "align_self": null,
            "border": null,
            "bottom": null,
            "display": null,
            "flex": null,
            "flex_flow": null,
            "grid_area": null,
            "grid_auto_columns": null,
            "grid_auto_flow": null,
            "grid_auto_rows": null,
            "grid_column": null,
            "grid_gap": null,
            "grid_row": null,
            "grid_template_areas": null,
            "grid_template_columns": null,
            "grid_template_rows": null,
            "height": null,
            "justify_content": null,
            "justify_items": null,
            "left": null,
            "margin": null,
            "max_height": null,
            "max_width": null,
            "min_height": null,
            "min_width": null,
            "object_fit": null,
            "object_position": null,
            "order": null,
            "overflow": null,
            "overflow_x": null,
            "overflow_y": null,
            "padding": null,
            "right": null,
            "top": null,
            "visibility": null,
            "width": null
          }
        },
        "ede574dd43274ef0935fa96b00e0be70": {
          "model_module": "@jupyter-widgets/controls",
          "model_module_version": "1.5.0",
          "model_name": "HTMLModel",
          "state": {
            "_dom_classes": [],
            "_model_module": "@jupyter-widgets/controls",
            "_model_module_version": "1.5.0",
            "_model_name": "HTMLModel",
            "_view_count": null,
            "_view_module": "@jupyter-widgets/controls",
            "_view_module_version": "1.5.0",
            "_view_name": "HTMLView",
            "description": "",
            "description_tooltip": null,
            "layout": "IPY_MODEL_75a1ee79c357441ab86f16f93dd91a8a",
            "placeholder": "​",
            "style": "IPY_MODEL_7f7afffafd5145c5b5643c1166dd4b2b",
            "value": " 13/13 [02:19&lt;00:00,  8.80s/it]"
          }
        },
        "f33af241ccf34e92bde41b294690c15f": {
          "model_module": "@jupyter-widgets/base",
          "model_module_version": "1.2.0",
          "model_name": "LayoutModel",
          "state": {
            "_model_module": "@jupyter-widgets/base",
            "_model_module_version": "1.2.0",
            "_model_name": "LayoutModel",
            "_view_count": null,
            "_view_module": "@jupyter-widgets/base",
            "_view_module_version": "1.2.0",
            "_view_name": "LayoutView",
            "align_content": null,
            "align_items": null,
            "align_self": null,
            "border": null,
            "bottom": null,
            "display": null,
            "flex": null,
            "flex_flow": null,
            "grid_area": null,
            "grid_auto_columns": null,
            "grid_auto_flow": null,
            "grid_auto_rows": null,
            "grid_column": null,
            "grid_gap": null,
            "grid_row": null,
            "grid_template_areas": null,
            "grid_template_columns": null,
            "grid_template_rows": null,
            "height": null,
            "justify_content": null,
            "justify_items": null,
            "left": null,
            "margin": null,
            "max_height": null,
            "max_width": null,
            "min_height": null,
            "min_width": null,
            "object_fit": null,
            "object_position": null,
            "order": null,
            "overflow": null,
            "overflow_x": null,
            "overflow_y": null,
            "padding": null,
            "right": null,
            "top": null,
            "visibility": null,
            "width": null
          }
        },
        "f76e485c9272465799cefa4c92d061b5": {
          "model_module": "@jupyter-widgets/base",
          "model_module_version": "1.2.0",
          "model_name": "LayoutModel",
          "state": {
            "_model_module": "@jupyter-widgets/base",
            "_model_module_version": "1.2.0",
            "_model_name": "LayoutModel",
            "_view_count": null,
            "_view_module": "@jupyter-widgets/base",
            "_view_module_version": "1.2.0",
            "_view_name": "LayoutView",
            "align_content": null,
            "align_items": null,
            "align_self": null,
            "border": null,
            "bottom": null,
            "display": null,
            "flex": null,
            "flex_flow": null,
            "grid_area": null,
            "grid_auto_columns": null,
            "grid_auto_flow": null,
            "grid_auto_rows": null,
            "grid_column": null,
            "grid_gap": null,
            "grid_row": null,
            "grid_template_areas": null,
            "grid_template_columns": null,
            "grid_template_rows": null,
            "height": null,
            "justify_content": null,
            "justify_items": null,
            "left": null,
            "margin": null,
            "max_height": null,
            "max_width": null,
            "min_height": null,
            "min_width": null,
            "object_fit": null,
            "object_position": null,
            "order": null,
            "overflow": null,
            "overflow_x": null,
            "overflow_y": null,
            "padding": null,
            "right": null,
            "top": null,
            "visibility": null,
            "width": null
          }
        },
        "f8d27ebd800b45a68246ba02d7f4ca61": {
          "model_module": "@jupyter-widgets/controls",
          "model_module_version": "1.5.0",
          "model_name": "FloatProgressModel",
          "state": {
            "_dom_classes": [],
            "_model_module": "@jupyter-widgets/controls",
            "_model_module_version": "1.5.0",
            "_model_name": "FloatProgressModel",
            "_view_count": null,
            "_view_module": "@jupyter-widgets/controls",
            "_view_module_version": "1.5.0",
            "_view_name": "ProgressView",
            "bar_style": "success",
            "description": "",
            "description_tooltip": null,
            "layout": "IPY_MODEL_00b98a87897643bd879140697a904de4",
            "max": 13,
            "min": 0,
            "orientation": "horizontal",
            "style": "IPY_MODEL_22f7e10aa71f4ce385a4a2a150ac5651",
            "value": 13
          }
        },
        "faa865f9a6bd4f038ac14534b47f9727": {
          "model_module": "@jupyter-widgets/controls",
          "model_module_version": "1.5.0",
          "model_name": "HBoxModel",
          "state": {
            "_dom_classes": [],
            "_model_module": "@jupyter-widgets/controls",
            "_model_module_version": "1.5.0",
            "_model_name": "HBoxModel",
            "_view_count": null,
            "_view_module": "@jupyter-widgets/controls",
            "_view_module_version": "1.5.0",
            "_view_name": "HBoxView",
            "box_style": "",
            "children": [
              "IPY_MODEL_a97df2e330594853b30d499c1588d4ea",
              "IPY_MODEL_1096dc6526bf4ee6b5b69aab4321d737",
              "IPY_MODEL_3a8df7a57d6847dfa9396a07fbf8f59c"
            ],
            "layout": "IPY_MODEL_ff9d8ccb935a44fea687edff7359c041"
          }
        },
        "fb7dc05a34964d509475b0145934c28e": {
          "model_module": "@jupyter-widgets/base",
          "model_module_version": "1.2.0",
          "model_name": "LayoutModel",
          "state": {
            "_model_module": "@jupyter-widgets/base",
            "_model_module_version": "1.2.0",
            "_model_name": "LayoutModel",
            "_view_count": null,
            "_view_module": "@jupyter-widgets/base",
            "_view_module_version": "1.2.0",
            "_view_name": "LayoutView",
            "align_content": null,
            "align_items": null,
            "align_self": null,
            "border": null,
            "bottom": null,
            "display": null,
            "flex": null,
            "flex_flow": null,
            "grid_area": null,
            "grid_auto_columns": null,
            "grid_auto_flow": null,
            "grid_auto_rows": null,
            "grid_column": null,
            "grid_gap": null,
            "grid_row": null,
            "grid_template_areas": null,
            "grid_template_columns": null,
            "grid_template_rows": null,
            "height": null,
            "justify_content": null,
            "justify_items": null,
            "left": null,
            "margin": null,
            "max_height": null,
            "max_width": null,
            "min_height": null,
            "min_width": null,
            "object_fit": null,
            "object_position": null,
            "order": null,
            "overflow": null,
            "overflow_x": null,
            "overflow_y": null,
            "padding": null,
            "right": null,
            "top": null,
            "visibility": null,
            "width": null
          }
        },
        "fbbd46ce685944089e9bcd224269ddbc": {
          "model_module": "@jupyter-widgets/controls",
          "model_module_version": "1.5.0",
          "model_name": "HTMLModel",
          "state": {
            "_dom_classes": [],
            "_model_module": "@jupyter-widgets/controls",
            "_model_module_version": "1.5.0",
            "_model_name": "HTMLModel",
            "_view_count": null,
            "_view_module": "@jupyter-widgets/controls",
            "_view_module_version": "1.5.0",
            "_view_name": "HTMLView",
            "description": "",
            "description_tooltip": null,
            "layout": "IPY_MODEL_f76e485c9272465799cefa4c92d061b5",
            "placeholder": "​",
            "style": "IPY_MODEL_a0d5ba48448f47a39a57e337e4b26ec2",
            "value": " 2/2 [27:22&lt;00:00, 815.79s/it]"
          }
        },
        "fc3076a2ccab4f7eb2feeac3ab1e7d38": {
          "model_module": "@jupyter-widgets/controls",
          "model_module_version": "1.5.0",
          "model_name": "FloatProgressModel",
          "state": {
            "_dom_classes": [],
            "_model_module": "@jupyter-widgets/controls",
            "_model_module_version": "1.5.0",
            "_model_name": "FloatProgressModel",
            "_view_count": null,
            "_view_module": "@jupyter-widgets/controls",
            "_view_module_version": "1.5.0",
            "_view_name": "ProgressView",
            "bar_style": "success",
            "description": "",
            "description_tooltip": null,
            "layout": "IPY_MODEL_7f5f8011666c41ea95c217ea2fc69120",
            "max": 13,
            "min": 0,
            "orientation": "horizontal",
            "style": "IPY_MODEL_a346289c66fc4901a50d1551eb3885d9",
            "value": 13
          }
        },
        "fc93a17343ba453db38841aa0a7fa624": {
          "model_module": "@jupyter-widgets/base",
          "model_module_version": "1.2.0",
          "model_name": "LayoutModel",
          "state": {
            "_model_module": "@jupyter-widgets/base",
            "_model_module_version": "1.2.0",
            "_model_name": "LayoutModel",
            "_view_count": null,
            "_view_module": "@jupyter-widgets/base",
            "_view_module_version": "1.2.0",
            "_view_name": "LayoutView",
            "align_content": null,
            "align_items": null,
            "align_self": null,
            "border": null,
            "bottom": null,
            "display": null,
            "flex": null,
            "flex_flow": null,
            "grid_area": null,
            "grid_auto_columns": null,
            "grid_auto_flow": null,
            "grid_auto_rows": null,
            "grid_column": null,
            "grid_gap": null,
            "grid_row": null,
            "grid_template_areas": null,
            "grid_template_columns": null,
            "grid_template_rows": null,
            "height": null,
            "justify_content": null,
            "justify_items": null,
            "left": null,
            "margin": null,
            "max_height": null,
            "max_width": null,
            "min_height": null,
            "min_width": null,
            "object_fit": null,
            "object_position": null,
            "order": null,
            "overflow": null,
            "overflow_x": null,
            "overflow_y": null,
            "padding": null,
            "right": null,
            "top": null,
            "visibility": null,
            "width": null
          }
        },
        "ff9d8ccb935a44fea687edff7359c041": {
          "model_module": "@jupyter-widgets/base",
          "model_module_version": "1.2.0",
          "model_name": "LayoutModel",
          "state": {
            "_model_module": "@jupyter-widgets/base",
            "_model_module_version": "1.2.0",
            "_model_name": "LayoutModel",
            "_view_count": null,
            "_view_module": "@jupyter-widgets/base",
            "_view_module_version": "1.2.0",
            "_view_name": "LayoutView",
            "align_content": null,
            "align_items": null,
            "align_self": null,
            "border": null,
            "bottom": null,
            "display": null,
            "flex": null,
            "flex_flow": null,
            "grid_area": null,
            "grid_auto_columns": null,
            "grid_auto_flow": null,
            "grid_auto_rows": null,
            "grid_column": null,
            "grid_gap": null,
            "grid_row": null,
            "grid_template_areas": null,
            "grid_template_columns": null,
            "grid_template_rows": null,
            "height": null,
            "justify_content": null,
            "justify_items": null,
            "left": null,
            "margin": null,
            "max_height": null,
            "max_width": null,
            "min_height": null,
            "min_width": null,
            "object_fit": null,
            "object_position": null,
            "order": null,
            "overflow": null,
            "overflow_x": null,
            "overflow_y": null,
            "padding": null,
            "right": null,
            "top": null,
            "visibility": null,
            "width": null
          }
        }
      }
    }
  },
  "nbformat": 4,
  "nbformat_minor": 0
}
